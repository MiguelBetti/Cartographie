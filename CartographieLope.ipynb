{
  "nbformat": 4,
  "nbformat_minor": 0,
  "metadata": {
    "colab": {
      "provenance": [],
      "authorship_tag": "ABX9TyOHOnMsi3HC6Nes/z0jLZWz",
      "include_colab_link": true
    },
    "kernelspec": {
      "name": "python3",
      "display_name": "Python 3"
    },
    "language_info": {
      "name": "python"
    },
    "accelerator": "GPU",
    "gpuClass": "premium"
  },
  "cells": [
    {
      "cell_type": "markdown",
      "metadata": {
        "id": "view-in-github",
        "colab_type": "text"
      },
      "source": [
        "<a href=\"https://colab.research.google.com/github/MiguelBetti/Cartographie/blob/main/CartographieLope.ipynb\" target=\"_parent\"><img src=\"https://colab.research.google.com/assets/colab-badge.svg\" alt=\"Open In Colab\"/></a>"
      ]
    },
    {
      "cell_type": "markdown",
      "source": [
        "J'installe *Spacy*.\n"
      ],
      "metadata": {
        "id": "IcK7fLKyusKT"
      }
    },
    {
      "cell_type": "code",
      "source": [
        "!pip install -U spacy"
      ],
      "metadata": {
        "colab": {
          "base_uri": "https://localhost:8080/"
        },
        "id": "aGFwL8Ucuvv9",
        "outputId": "b922ac63-dd09-4441-93de-3fa2554a0409"
      },
      "execution_count": 1,
      "outputs": [
        {
          "output_type": "stream",
          "name": "stdout",
          "text": [
            "Looking in indexes: https://pypi.org/simple, https://us-python.pkg.dev/colab-wheels/public/simple/\n",
            "Requirement already satisfied: spacy in /usr/local/lib/python3.8/dist-packages (3.4.4)\n",
            "Requirement already satisfied: cymem<2.1.0,>=2.0.2 in /usr/local/lib/python3.8/dist-packages (from spacy) (2.0.7)\n",
            "Requirement already satisfied: typer<0.8.0,>=0.3.0 in /usr/local/lib/python3.8/dist-packages (from spacy) (0.7.0)\n",
            "Requirement already satisfied: pathy>=0.3.5 in /usr/local/lib/python3.8/dist-packages (from spacy) (0.10.1)\n",
            "Requirement already satisfied: catalogue<2.1.0,>=2.0.6 in /usr/local/lib/python3.8/dist-packages (from spacy) (2.0.8)\n",
            "Requirement already satisfied: numpy>=1.15.0 in /usr/local/lib/python3.8/dist-packages (from spacy) (1.21.6)\n",
            "Requirement already satisfied: murmurhash<1.1.0,>=0.28.0 in /usr/local/lib/python3.8/dist-packages (from spacy) (1.0.9)\n",
            "Requirement already satisfied: jinja2 in /usr/local/lib/python3.8/dist-packages (from spacy) (2.11.3)\n",
            "Requirement already satisfied: langcodes<4.0.0,>=3.2.0 in /usr/local/lib/python3.8/dist-packages (from spacy) (3.3.0)\n",
            "Requirement already satisfied: smart-open<7.0.0,>=5.2.1 in /usr/local/lib/python3.8/dist-packages (from spacy) (6.3.0)\n",
            "Requirement already satisfied: tqdm<5.0.0,>=4.38.0 in /usr/local/lib/python3.8/dist-packages (from spacy) (4.64.1)\n",
            "Requirement already satisfied: preshed<3.1.0,>=3.0.2 in /usr/local/lib/python3.8/dist-packages (from spacy) (3.0.8)\n",
            "Requirement already satisfied: spacy-loggers<2.0.0,>=1.0.0 in /usr/local/lib/python3.8/dist-packages (from spacy) (1.0.4)\n",
            "Requirement already satisfied: packaging>=20.0 in /usr/local/lib/python3.8/dist-packages (from spacy) (21.3)\n",
            "Requirement already satisfied: setuptools in /usr/local/lib/python3.8/dist-packages (from spacy) (57.4.0)\n",
            "Requirement already satisfied: pydantic!=1.8,!=1.8.1,<1.11.0,>=1.7.4 in /usr/local/lib/python3.8/dist-packages (from spacy) (1.10.2)\n",
            "Requirement already satisfied: spacy-legacy<3.1.0,>=3.0.10 in /usr/local/lib/python3.8/dist-packages (from spacy) (3.0.10)\n",
            "Requirement already satisfied: wasabi<1.1.0,>=0.9.1 in /usr/local/lib/python3.8/dist-packages (from spacy) (0.10.1)\n",
            "Requirement already satisfied: srsly<3.0.0,>=2.4.3 in /usr/local/lib/python3.8/dist-packages (from spacy) (2.4.5)\n",
            "Requirement already satisfied: thinc<8.2.0,>=8.1.0 in /usr/local/lib/python3.8/dist-packages (from spacy) (8.1.6)\n",
            "Requirement already satisfied: requests<3.0.0,>=2.13.0 in /usr/local/lib/python3.8/dist-packages (from spacy) (2.25.1)\n",
            "Requirement already satisfied: pyparsing!=3.0.5,>=2.0.2 in /usr/local/lib/python3.8/dist-packages (from packaging>=20.0->spacy) (3.0.9)\n",
            "Requirement already satisfied: typing-extensions>=4.1.0 in /usr/local/lib/python3.8/dist-packages (from pydantic!=1.8,!=1.8.1,<1.11.0,>=1.7.4->spacy) (4.4.0)\n",
            "Requirement already satisfied: chardet<5,>=3.0.2 in /usr/local/lib/python3.8/dist-packages (from requests<3.0.0,>=2.13.0->spacy) (4.0.0)\n",
            "Requirement already satisfied: certifi>=2017.4.17 in /usr/local/lib/python3.8/dist-packages (from requests<3.0.0,>=2.13.0->spacy) (2022.12.7)\n",
            "Requirement already satisfied: urllib3<1.27,>=1.21.1 in /usr/local/lib/python3.8/dist-packages (from requests<3.0.0,>=2.13.0->spacy) (1.24.3)\n",
            "Requirement already satisfied: idna<3,>=2.5 in /usr/local/lib/python3.8/dist-packages (from requests<3.0.0,>=2.13.0->spacy) (2.10)\n",
            "Requirement already satisfied: blis<0.8.0,>=0.7.8 in /usr/local/lib/python3.8/dist-packages (from thinc<8.2.0,>=8.1.0->spacy) (0.7.9)\n",
            "Requirement already satisfied: confection<1.0.0,>=0.0.1 in /usr/local/lib/python3.8/dist-packages (from thinc<8.2.0,>=8.1.0->spacy) (0.0.3)\n",
            "Requirement already satisfied: click<9.0.0,>=7.1.1 in /usr/local/lib/python3.8/dist-packages (from typer<0.8.0,>=0.3.0->spacy) (7.1.2)\n",
            "Requirement already satisfied: MarkupSafe>=0.23 in /usr/local/lib/python3.8/dist-packages (from jinja2->spacy) (2.0.1)\n"
          ]
        }
      ]
    },
    {
      "cell_type": "markdown",
      "source": [
        "Je télécharge le modèle multi-langue, qui permet l'utilisation de ce modèle pour d'autres langues."
      ],
      "metadata": {
        "id": "wJZtH7IN7IOP"
      }
    },
    {
      "cell_type": "code",
      "source": [
        "!python -m spacy download xx_ent_wiki_sm"
      ],
      "metadata": {
        "id": "MPWueQ9gu9Ld",
        "colab": {
          "base_uri": "https://localhost:8080/"
        },
        "outputId": "f8a82572-e8bb-493d-f645-fe47389cc3bb"
      },
      "execution_count": 2,
      "outputs": [
        {
          "output_type": "stream",
          "name": "stdout",
          "text": [
            "2023-01-04 17:54:41.359803: I tensorflow/core/util/util.cc:169] oneDNN custom operations are on. You may see slightly different numerical results due to floating-point round-off errors from different computation orders. To turn them off, set the environment variable `TF_ENABLE_ONEDNN_OPTS=0`.\n",
            "Looking in indexes: https://pypi.org/simple, https://us-python.pkg.dev/colab-wheels/public/simple/\n",
            "Collecting xx-ent-wiki-sm==3.4.0\n",
            "  Downloading https://github.com/explosion/spacy-models/releases/download/xx_ent_wiki_sm-3.4.0/xx_ent_wiki_sm-3.4.0-py3-none-any.whl (11.2 MB)\n",
            "\u001b[2K     \u001b[90m━━━━━━━━━━━━━━━━━━━━━━━━━━━━━━━━━━━━━━━━\u001b[0m \u001b[32m11.2/11.2 MB\u001b[0m \u001b[31m45.8 MB/s\u001b[0m eta \u001b[36m0:00:00\u001b[0m\n",
            "\u001b[?25hRequirement already satisfied: spacy<3.5.0,>=3.4.0 in /usr/local/lib/python3.8/dist-packages (from xx-ent-wiki-sm==3.4.0) (3.4.4)\n",
            "Requirement already satisfied: langcodes<4.0.0,>=3.2.0 in /usr/local/lib/python3.8/dist-packages (from spacy<3.5.0,>=3.4.0->xx-ent-wiki-sm==3.4.0) (3.3.0)\n",
            "Requirement already satisfied: spacy-legacy<3.1.0,>=3.0.10 in /usr/local/lib/python3.8/dist-packages (from spacy<3.5.0,>=3.4.0->xx-ent-wiki-sm==3.4.0) (3.0.10)\n",
            "Requirement already satisfied: murmurhash<1.1.0,>=0.28.0 in /usr/local/lib/python3.8/dist-packages (from spacy<3.5.0,>=3.4.0->xx-ent-wiki-sm==3.4.0) (1.0.9)\n",
            "Requirement already satisfied: preshed<3.1.0,>=3.0.2 in /usr/local/lib/python3.8/dist-packages (from spacy<3.5.0,>=3.4.0->xx-ent-wiki-sm==3.4.0) (3.0.8)\n",
            "Requirement already satisfied: spacy-loggers<2.0.0,>=1.0.0 in /usr/local/lib/python3.8/dist-packages (from spacy<3.5.0,>=3.4.0->xx-ent-wiki-sm==3.4.0) (1.0.4)\n",
            "Requirement already satisfied: pydantic!=1.8,!=1.8.1,<1.11.0,>=1.7.4 in /usr/local/lib/python3.8/dist-packages (from spacy<3.5.0,>=3.4.0->xx-ent-wiki-sm==3.4.0) (1.10.2)\n",
            "Requirement already satisfied: tqdm<5.0.0,>=4.38.0 in /usr/local/lib/python3.8/dist-packages (from spacy<3.5.0,>=3.4.0->xx-ent-wiki-sm==3.4.0) (4.64.1)\n",
            "Requirement already satisfied: numpy>=1.15.0 in /usr/local/lib/python3.8/dist-packages (from spacy<3.5.0,>=3.4.0->xx-ent-wiki-sm==3.4.0) (1.21.6)\n",
            "Requirement already satisfied: catalogue<2.1.0,>=2.0.6 in /usr/local/lib/python3.8/dist-packages (from spacy<3.5.0,>=3.4.0->xx-ent-wiki-sm==3.4.0) (2.0.8)\n",
            "Requirement already satisfied: requests<3.0.0,>=2.13.0 in /usr/local/lib/python3.8/dist-packages (from spacy<3.5.0,>=3.4.0->xx-ent-wiki-sm==3.4.0) (2.25.1)\n",
            "Requirement already satisfied: packaging>=20.0 in /usr/local/lib/python3.8/dist-packages (from spacy<3.5.0,>=3.4.0->xx-ent-wiki-sm==3.4.0) (21.3)\n",
            "Requirement already satisfied: srsly<3.0.0,>=2.4.3 in /usr/local/lib/python3.8/dist-packages (from spacy<3.5.0,>=3.4.0->xx-ent-wiki-sm==3.4.0) (2.4.5)\n",
            "Requirement already satisfied: thinc<8.2.0,>=8.1.0 in /usr/local/lib/python3.8/dist-packages (from spacy<3.5.0,>=3.4.0->xx-ent-wiki-sm==3.4.0) (8.1.6)\n",
            "Requirement already satisfied: smart-open<7.0.0,>=5.2.1 in /usr/local/lib/python3.8/dist-packages (from spacy<3.5.0,>=3.4.0->xx-ent-wiki-sm==3.4.0) (6.3.0)\n",
            "Requirement already satisfied: setuptools in /usr/local/lib/python3.8/dist-packages (from spacy<3.5.0,>=3.4.0->xx-ent-wiki-sm==3.4.0) (57.4.0)\n",
            "Requirement already satisfied: typer<0.8.0,>=0.3.0 in /usr/local/lib/python3.8/dist-packages (from spacy<3.5.0,>=3.4.0->xx-ent-wiki-sm==3.4.0) (0.7.0)\n",
            "Requirement already satisfied: wasabi<1.1.0,>=0.9.1 in /usr/local/lib/python3.8/dist-packages (from spacy<3.5.0,>=3.4.0->xx-ent-wiki-sm==3.4.0) (0.10.1)\n",
            "Requirement already satisfied: pathy>=0.3.5 in /usr/local/lib/python3.8/dist-packages (from spacy<3.5.0,>=3.4.0->xx-ent-wiki-sm==3.4.0) (0.10.1)\n",
            "Requirement already satisfied: cymem<2.1.0,>=2.0.2 in /usr/local/lib/python3.8/dist-packages (from spacy<3.5.0,>=3.4.0->xx-ent-wiki-sm==3.4.0) (2.0.7)\n",
            "Requirement already satisfied: jinja2 in /usr/local/lib/python3.8/dist-packages (from spacy<3.5.0,>=3.4.0->xx-ent-wiki-sm==3.4.0) (2.11.3)\n",
            "Requirement already satisfied: pyparsing!=3.0.5,>=2.0.2 in /usr/local/lib/python3.8/dist-packages (from packaging>=20.0->spacy<3.5.0,>=3.4.0->xx-ent-wiki-sm==3.4.0) (3.0.9)\n",
            "Requirement already satisfied: typing-extensions>=4.1.0 in /usr/local/lib/python3.8/dist-packages (from pydantic!=1.8,!=1.8.1,<1.11.0,>=1.7.4->spacy<3.5.0,>=3.4.0->xx-ent-wiki-sm==3.4.0) (4.4.0)\n",
            "Requirement already satisfied: urllib3<1.27,>=1.21.1 in /usr/local/lib/python3.8/dist-packages (from requests<3.0.0,>=2.13.0->spacy<3.5.0,>=3.4.0->xx-ent-wiki-sm==3.4.0) (1.24.3)\n",
            "Requirement already satisfied: idna<3,>=2.5 in /usr/local/lib/python3.8/dist-packages (from requests<3.0.0,>=2.13.0->spacy<3.5.0,>=3.4.0->xx-ent-wiki-sm==3.4.0) (2.10)\n",
            "Requirement already satisfied: chardet<5,>=3.0.2 in /usr/local/lib/python3.8/dist-packages (from requests<3.0.0,>=2.13.0->spacy<3.5.0,>=3.4.0->xx-ent-wiki-sm==3.4.0) (4.0.0)\n",
            "Requirement already satisfied: certifi>=2017.4.17 in /usr/local/lib/python3.8/dist-packages (from requests<3.0.0,>=2.13.0->spacy<3.5.0,>=3.4.0->xx-ent-wiki-sm==3.4.0) (2022.12.7)\n",
            "Requirement already satisfied: blis<0.8.0,>=0.7.8 in /usr/local/lib/python3.8/dist-packages (from thinc<8.2.0,>=8.1.0->spacy<3.5.0,>=3.4.0->xx-ent-wiki-sm==3.4.0) (0.7.9)\n",
            "Requirement already satisfied: confection<1.0.0,>=0.0.1 in /usr/local/lib/python3.8/dist-packages (from thinc<8.2.0,>=8.1.0->spacy<3.5.0,>=3.4.0->xx-ent-wiki-sm==3.4.0) (0.0.3)\n",
            "Requirement already satisfied: click<9.0.0,>=7.1.1 in /usr/local/lib/python3.8/dist-packages (from typer<0.8.0,>=0.3.0->spacy<3.5.0,>=3.4.0->xx-ent-wiki-sm==3.4.0) (7.1.2)\n",
            "Requirement already satisfied: MarkupSafe>=0.23 in /usr/local/lib/python3.8/dist-packages (from jinja2->spacy<3.5.0,>=3.4.0->xx-ent-wiki-sm==3.4.0) (2.0.1)\n",
            "Installing collected packages: xx-ent-wiki-sm\n",
            "Successfully installed xx-ent-wiki-sm-3.4.0\n",
            "\u001b[38;5;2m✔ Download and installation successful\u001b[0m\n",
            "You can now load the package via spacy.load('xx_ent_wiki_sm')\n"
          ]
        }
      ]
    },
    {
      "cell_type": "markdown",
      "source": [
        "Je télécharges des textes annotés pour l'entraînement, dans un nouveau dossier."
      ],
      "metadata": {
        "id": "-w00iVZD7RDK"
      }
    },
    {
      "cell_type": "code",
      "source": [
        "!mkdir training_data\n",
        "!wget https://raw.githubusercontent.com/MiguelBetti/Cartographie/main/SPACY/DATA/train/LOPE_CARDONA.tsv\n",
        "!mv /content/LOPE_CARDONA.tsv /content/training_data"
      ],
      "metadata": {
        "colab": {
          "base_uri": "https://localhost:8080/"
        },
        "id": "vId_1UcE7Q1u",
        "outputId": "d24ae77f-fd2f-4e88-889e-c82ef3cdb055"
      },
      "execution_count": 3,
      "outputs": [
        {
          "output_type": "stream",
          "name": "stdout",
          "text": [
            "--2023-01-04 17:56:31--  https://raw.githubusercontent.com/MiguelBetti/Cartographie/main/SPACY/DATA/train/LOPE_CARDONA.tsv\n",
            "Resolving raw.githubusercontent.com (raw.githubusercontent.com)... 185.199.108.133, 185.199.109.133, 185.199.110.133, ...\n",
            "Connecting to raw.githubusercontent.com (raw.githubusercontent.com)|185.199.108.133|:443... connected.\n",
            "HTTP request sent, awaiting response... 200 OK\n",
            "Length: 123636 (121K) [text/plain]\n",
            "Saving to: ‘LOPE_CARDONA.tsv’\n",
            "\n",
            "LOPE_CARDONA.tsv    100%[===================>] 120.74K  --.-KB/s    in 0.02s   \n",
            "\n",
            "2023-01-04 17:56:32 (5.12 MB/s) - ‘LOPE_CARDONA.tsv’ saved [123636/123636]\n",
            "\n"
          ]
        }
      ]
    },
    {
      "cell_type": "markdown",
      "source": [
        "Je visualise l'information dans un dataframe."
      ],
      "metadata": {
        "id": "SRnl57Fb7ZgB"
      }
    },
    {
      "cell_type": "code",
      "source": [
        "!pip install pandas\n",
        "import pandas as pd"
      ],
      "metadata": {
        "colab": {
          "base_uri": "https://localhost:8080/"
        },
        "id": "qc_L1DqM7bcP",
        "outputId": "708138f5-808f-41ed-9cb4-73b393292cc3"
      },
      "execution_count": 4,
      "outputs": [
        {
          "output_type": "stream",
          "name": "stdout",
          "text": [
            "Looking in indexes: https://pypi.org/simple, https://us-python.pkg.dev/colab-wheels/public/simple/\n",
            "Requirement already satisfied: pandas in /usr/local/lib/python3.8/dist-packages (1.3.5)\n",
            "Requirement already satisfied: numpy>=1.17.3 in /usr/local/lib/python3.8/dist-packages (from pandas) (1.21.6)\n",
            "Requirement already satisfied: pytz>=2017.3 in /usr/local/lib/python3.8/dist-packages (from pandas) (2022.7)\n",
            "Requirement already satisfied: python-dateutil>=2.7.3 in /usr/local/lib/python3.8/dist-packages (from pandas) (2.8.2)\n",
            "Requirement already satisfied: six>=1.5 in /usr/local/lib/python3.8/dist-packages (from python-dateutil>=2.7.3->pandas) (1.15.0)\n"
          ]
        }
      ]
    },
    {
      "cell_type": "code",
      "source": [
        "df = pd.read_csv('/content/training_data/LOPE_CARDONA.tsv', sep=\"\\t\", header=None)\n",
        "df.head(11)"
      ],
      "metadata": {
        "colab": {
          "base_uri": "https://localhost:8080/",
          "height": 394
        },
        "id": "pl_gxADl7gAL",
        "outputId": "7d9abae6-351d-4a0a-bf22-e6820a78fcfc"
      },
      "execution_count": 5,
      "outputs": [
        {
          "output_type": "execute_result",
          "data": {
            "text/plain": [
              "           0  1\n",
              "0         No  O\n",
              "1     paséis  O\n",
              "2        más  O\n",
              "3   adelante  O\n",
              "4      mejor  O\n",
              "5         es  O\n",
              "6     volver  O\n",
              "7      atrás  O\n",
              "8          y  O\n",
              "9         al  O\n",
              "10     honor  O"
            ],
            "text/html": [
              "\n",
              "  <div id=\"df-a961794a-80d0-426e-91c5-4144caf86188\">\n",
              "    <div class=\"colab-df-container\">\n",
              "      <div>\n",
              "<style scoped>\n",
              "    .dataframe tbody tr th:only-of-type {\n",
              "        vertical-align: middle;\n",
              "    }\n",
              "\n",
              "    .dataframe tbody tr th {\n",
              "        vertical-align: top;\n",
              "    }\n",
              "\n",
              "    .dataframe thead th {\n",
              "        text-align: right;\n",
              "    }\n",
              "</style>\n",
              "<table border=\"1\" class=\"dataframe\">\n",
              "  <thead>\n",
              "    <tr style=\"text-align: right;\">\n",
              "      <th></th>\n",
              "      <th>0</th>\n",
              "      <th>1</th>\n",
              "    </tr>\n",
              "  </thead>\n",
              "  <tbody>\n",
              "    <tr>\n",
              "      <th>0</th>\n",
              "      <td>No</td>\n",
              "      <td>O</td>\n",
              "    </tr>\n",
              "    <tr>\n",
              "      <th>1</th>\n",
              "      <td>paséis</td>\n",
              "      <td>O</td>\n",
              "    </tr>\n",
              "    <tr>\n",
              "      <th>2</th>\n",
              "      <td>más</td>\n",
              "      <td>O</td>\n",
              "    </tr>\n",
              "    <tr>\n",
              "      <th>3</th>\n",
              "      <td>adelante</td>\n",
              "      <td>O</td>\n",
              "    </tr>\n",
              "    <tr>\n",
              "      <th>4</th>\n",
              "      <td>mejor</td>\n",
              "      <td>O</td>\n",
              "    </tr>\n",
              "    <tr>\n",
              "      <th>5</th>\n",
              "      <td>es</td>\n",
              "      <td>O</td>\n",
              "    </tr>\n",
              "    <tr>\n",
              "      <th>6</th>\n",
              "      <td>volver</td>\n",
              "      <td>O</td>\n",
              "    </tr>\n",
              "    <tr>\n",
              "      <th>7</th>\n",
              "      <td>atrás</td>\n",
              "      <td>O</td>\n",
              "    </tr>\n",
              "    <tr>\n",
              "      <th>8</th>\n",
              "      <td>y</td>\n",
              "      <td>O</td>\n",
              "    </tr>\n",
              "    <tr>\n",
              "      <th>9</th>\n",
              "      <td>al</td>\n",
              "      <td>O</td>\n",
              "    </tr>\n",
              "    <tr>\n",
              "      <th>10</th>\n",
              "      <td>honor</td>\n",
              "      <td>O</td>\n",
              "    </tr>\n",
              "  </tbody>\n",
              "</table>\n",
              "</div>\n",
              "      <button class=\"colab-df-convert\" onclick=\"convertToInteractive('df-a961794a-80d0-426e-91c5-4144caf86188')\"\n",
              "              title=\"Convert this dataframe to an interactive table.\"\n",
              "              style=\"display:none;\">\n",
              "        \n",
              "  <svg xmlns=\"http://www.w3.org/2000/svg\" height=\"24px\"viewBox=\"0 0 24 24\"\n",
              "       width=\"24px\">\n",
              "    <path d=\"M0 0h24v24H0V0z\" fill=\"none\"/>\n",
              "    <path d=\"M18.56 5.44l.94 2.06.94-2.06 2.06-.94-2.06-.94-.94-2.06-.94 2.06-2.06.94zm-11 1L8.5 8.5l.94-2.06 2.06-.94-2.06-.94L8.5 2.5l-.94 2.06-2.06.94zm10 10l.94 2.06.94-2.06 2.06-.94-2.06-.94-.94-2.06-.94 2.06-2.06.94z\"/><path d=\"M17.41 7.96l-1.37-1.37c-.4-.4-.92-.59-1.43-.59-.52 0-1.04.2-1.43.59L10.3 9.45l-7.72 7.72c-.78.78-.78 2.05 0 2.83L4 21.41c.39.39.9.59 1.41.59.51 0 1.02-.2 1.41-.59l7.78-7.78 2.81-2.81c.8-.78.8-2.07 0-2.86zM5.41 20L4 18.59l7.72-7.72 1.47 1.35L5.41 20z\"/>\n",
              "  </svg>\n",
              "      </button>\n",
              "      \n",
              "  <style>\n",
              "    .colab-df-container {\n",
              "      display:flex;\n",
              "      flex-wrap:wrap;\n",
              "      gap: 12px;\n",
              "    }\n",
              "\n",
              "    .colab-df-convert {\n",
              "      background-color: #E8F0FE;\n",
              "      border: none;\n",
              "      border-radius: 50%;\n",
              "      cursor: pointer;\n",
              "      display: none;\n",
              "      fill: #1967D2;\n",
              "      height: 32px;\n",
              "      padding: 0 0 0 0;\n",
              "      width: 32px;\n",
              "    }\n",
              "\n",
              "    .colab-df-convert:hover {\n",
              "      background-color: #E2EBFA;\n",
              "      box-shadow: 0px 1px 2px rgba(60, 64, 67, 0.3), 0px 1px 3px 1px rgba(60, 64, 67, 0.15);\n",
              "      fill: #174EA6;\n",
              "    }\n",
              "\n",
              "    [theme=dark] .colab-df-convert {\n",
              "      background-color: #3B4455;\n",
              "      fill: #D2E3FC;\n",
              "    }\n",
              "\n",
              "    [theme=dark] .colab-df-convert:hover {\n",
              "      background-color: #434B5C;\n",
              "      box-shadow: 0px 1px 3px 1px rgba(0, 0, 0, 0.15);\n",
              "      filter: drop-shadow(0px 1px 2px rgba(0, 0, 0, 0.3));\n",
              "      fill: #FFFFFF;\n",
              "    }\n",
              "  </style>\n",
              "\n",
              "      <script>\n",
              "        const buttonEl =\n",
              "          document.querySelector('#df-a961794a-80d0-426e-91c5-4144caf86188 button.colab-df-convert');\n",
              "        buttonEl.style.display =\n",
              "          google.colab.kernel.accessAllowed ? 'block' : 'none';\n",
              "\n",
              "        async function convertToInteractive(key) {\n",
              "          const element = document.querySelector('#df-a961794a-80d0-426e-91c5-4144caf86188');\n",
              "          const dataTable =\n",
              "            await google.colab.kernel.invokeFunction('convertToInteractive',\n",
              "                                                     [key], {});\n",
              "          if (!dataTable) return;\n",
              "\n",
              "          const docLinkHtml = 'Like what you see? Visit the ' +\n",
              "            '<a target=\"_blank\" href=https://colab.research.google.com/notebooks/data_table.ipynb>data table notebook</a>'\n",
              "            + ' to learn more about interactive tables.';\n",
              "          element.innerHTML = '';\n",
              "          dataTable['output_type'] = 'display_data';\n",
              "          await google.colab.output.renderOutput(dataTable, element);\n",
              "          const docLink = document.createElement('div');\n",
              "          docLink.innerHTML = docLinkHtml;\n",
              "          element.appendChild(docLink);\n",
              "        }\n",
              "      </script>\n",
              "    </div>\n",
              "  </div>\n",
              "  "
            ]
          },
          "metadata": {},
          "execution_count": 5
        }
      ]
    },
    {
      "cell_type": "markdown",
      "source": [
        "Je télécharge un autre texte annoté pour la dévolution et je le visualise.\n",
        "\n",
        "---\n",
        "\n"
      ],
      "metadata": {
        "id": "-i1DaVAV7isF"
      }
    },
    {
      "cell_type": "code",
      "source": [
        "!wget https://raw.githubusercontent.com/MiguelBetti/Cartographie/main/SPACY/DATA/dev/LOPE_OCASIONPERDIDA.tsv\n",
        "!mv /content/LOPE_OCASIONPERDIDA.tsv /content/training_data"
      ],
      "metadata": {
        "colab": {
          "base_uri": "https://localhost:8080/"
        },
        "id": "ltp3hSiQ7ljL",
        "outputId": "236cfc33-82af-4ba4-9604-489d287800ca"
      },
      "execution_count": 6,
      "outputs": [
        {
          "output_type": "stream",
          "name": "stdout",
          "text": [
            "--2023-01-04 17:57:40--  https://raw.githubusercontent.com/MiguelBetti/Cartographie/main/SPACY/DATA/dev/LOPE_OCASIONPERDIDA.tsv\n",
            "Resolving raw.githubusercontent.com (raw.githubusercontent.com)... 185.199.108.133, 185.199.109.133, 185.199.110.133, ...\n",
            "Connecting to raw.githubusercontent.com (raw.githubusercontent.com)|185.199.108.133|:443... connected.\n",
            "HTTP request sent, awaiting response... 200 OK\n",
            "Length: 129962 (127K) [text/plain]\n",
            "Saving to: ‘LOPE_OCASIONPERDIDA.tsv’\n",
            "\n",
            "\rLOPE_OCASIONPERDIDA   0%[                    ]       0  --.-KB/s               \rLOPE_OCASIONPERDIDA 100%[===================>] 126.92K  --.-KB/s    in 0.02s   \n",
            "\n",
            "2023-01-04 17:57:40 (5.19 MB/s) - ‘LOPE_OCASIONPERDIDA.tsv’ saved [129962/129962]\n",
            "\n"
          ]
        }
      ]
    },
    {
      "cell_type": "code",
      "source": [
        "df = pd.read_csv('/content/training_data/LOPE_OCASIONPERDIDA.tsv', sep=\"\\t\", header=None)\n",
        "df.head(11)"
      ],
      "metadata": {
        "colab": {
          "base_uri": "https://localhost:8080/",
          "height": 394
        },
        "id": "_lt4yGmu7qRp",
        "outputId": "a40fcf10-1483-443f-fee5-1c5ea2b3e420"
      },
      "execution_count": 7,
      "outputs": [
        {
          "output_type": "execute_result",
          "data": {
            "text/plain": [
              "           0  1\n",
              "0      Poned  O\n",
              "1    delante  O\n",
              "2        las  O\n",
              "3    espadas  O\n",
              "4   indómito  O\n",
              "5    caballo  O\n",
              "6      Tente  O\n",
              "7       Cosa  O\n",
              "8    estraña  O\n",
              "9     apenas  O\n",
              "10        el  O"
            ],
            "text/html": [
              "\n",
              "  <div id=\"df-399aac4b-1117-42e5-a3af-a202e521c209\">\n",
              "    <div class=\"colab-df-container\">\n",
              "      <div>\n",
              "<style scoped>\n",
              "    .dataframe tbody tr th:only-of-type {\n",
              "        vertical-align: middle;\n",
              "    }\n",
              "\n",
              "    .dataframe tbody tr th {\n",
              "        vertical-align: top;\n",
              "    }\n",
              "\n",
              "    .dataframe thead th {\n",
              "        text-align: right;\n",
              "    }\n",
              "</style>\n",
              "<table border=\"1\" class=\"dataframe\">\n",
              "  <thead>\n",
              "    <tr style=\"text-align: right;\">\n",
              "      <th></th>\n",
              "      <th>0</th>\n",
              "      <th>1</th>\n",
              "    </tr>\n",
              "  </thead>\n",
              "  <tbody>\n",
              "    <tr>\n",
              "      <th>0</th>\n",
              "      <td>Poned</td>\n",
              "      <td>O</td>\n",
              "    </tr>\n",
              "    <tr>\n",
              "      <th>1</th>\n",
              "      <td>delante</td>\n",
              "      <td>O</td>\n",
              "    </tr>\n",
              "    <tr>\n",
              "      <th>2</th>\n",
              "      <td>las</td>\n",
              "      <td>O</td>\n",
              "    </tr>\n",
              "    <tr>\n",
              "      <th>3</th>\n",
              "      <td>espadas</td>\n",
              "      <td>O</td>\n",
              "    </tr>\n",
              "    <tr>\n",
              "      <th>4</th>\n",
              "      <td>indómito</td>\n",
              "      <td>O</td>\n",
              "    </tr>\n",
              "    <tr>\n",
              "      <th>5</th>\n",
              "      <td>caballo</td>\n",
              "      <td>O</td>\n",
              "    </tr>\n",
              "    <tr>\n",
              "      <th>6</th>\n",
              "      <td>Tente</td>\n",
              "      <td>O</td>\n",
              "    </tr>\n",
              "    <tr>\n",
              "      <th>7</th>\n",
              "      <td>Cosa</td>\n",
              "      <td>O</td>\n",
              "    </tr>\n",
              "    <tr>\n",
              "      <th>8</th>\n",
              "      <td>estraña</td>\n",
              "      <td>O</td>\n",
              "    </tr>\n",
              "    <tr>\n",
              "      <th>9</th>\n",
              "      <td>apenas</td>\n",
              "      <td>O</td>\n",
              "    </tr>\n",
              "    <tr>\n",
              "      <th>10</th>\n",
              "      <td>el</td>\n",
              "      <td>O</td>\n",
              "    </tr>\n",
              "  </tbody>\n",
              "</table>\n",
              "</div>\n",
              "      <button class=\"colab-df-convert\" onclick=\"convertToInteractive('df-399aac4b-1117-42e5-a3af-a202e521c209')\"\n",
              "              title=\"Convert this dataframe to an interactive table.\"\n",
              "              style=\"display:none;\">\n",
              "        \n",
              "  <svg xmlns=\"http://www.w3.org/2000/svg\" height=\"24px\"viewBox=\"0 0 24 24\"\n",
              "       width=\"24px\">\n",
              "    <path d=\"M0 0h24v24H0V0z\" fill=\"none\"/>\n",
              "    <path d=\"M18.56 5.44l.94 2.06.94-2.06 2.06-.94-2.06-.94-.94-2.06-.94 2.06-2.06.94zm-11 1L8.5 8.5l.94-2.06 2.06-.94-2.06-.94L8.5 2.5l-.94 2.06-2.06.94zm10 10l.94 2.06.94-2.06 2.06-.94-2.06-.94-.94-2.06-.94 2.06-2.06.94z\"/><path d=\"M17.41 7.96l-1.37-1.37c-.4-.4-.92-.59-1.43-.59-.52 0-1.04.2-1.43.59L10.3 9.45l-7.72 7.72c-.78.78-.78 2.05 0 2.83L4 21.41c.39.39.9.59 1.41.59.51 0 1.02-.2 1.41-.59l7.78-7.78 2.81-2.81c.8-.78.8-2.07 0-2.86zM5.41 20L4 18.59l7.72-7.72 1.47 1.35L5.41 20z\"/>\n",
              "  </svg>\n",
              "      </button>\n",
              "      \n",
              "  <style>\n",
              "    .colab-df-container {\n",
              "      display:flex;\n",
              "      flex-wrap:wrap;\n",
              "      gap: 12px;\n",
              "    }\n",
              "\n",
              "    .colab-df-convert {\n",
              "      background-color: #E8F0FE;\n",
              "      border: none;\n",
              "      border-radius: 50%;\n",
              "      cursor: pointer;\n",
              "      display: none;\n",
              "      fill: #1967D2;\n",
              "      height: 32px;\n",
              "      padding: 0 0 0 0;\n",
              "      width: 32px;\n",
              "    }\n",
              "\n",
              "    .colab-df-convert:hover {\n",
              "      background-color: #E2EBFA;\n",
              "      box-shadow: 0px 1px 2px rgba(60, 64, 67, 0.3), 0px 1px 3px 1px rgba(60, 64, 67, 0.15);\n",
              "      fill: #174EA6;\n",
              "    }\n",
              "\n",
              "    [theme=dark] .colab-df-convert {\n",
              "      background-color: #3B4455;\n",
              "      fill: #D2E3FC;\n",
              "    }\n",
              "\n",
              "    [theme=dark] .colab-df-convert:hover {\n",
              "      background-color: #434B5C;\n",
              "      box-shadow: 0px 1px 3px 1px rgba(0, 0, 0, 0.15);\n",
              "      filter: drop-shadow(0px 1px 2px rgba(0, 0, 0, 0.3));\n",
              "      fill: #FFFFFF;\n",
              "    }\n",
              "  </style>\n",
              "\n",
              "      <script>\n",
              "        const buttonEl =\n",
              "          document.querySelector('#df-399aac4b-1117-42e5-a3af-a202e521c209 button.colab-df-convert');\n",
              "        buttonEl.style.display =\n",
              "          google.colab.kernel.accessAllowed ? 'block' : 'none';\n",
              "\n",
              "        async function convertToInteractive(key) {\n",
              "          const element = document.querySelector('#df-399aac4b-1117-42e5-a3af-a202e521c209');\n",
              "          const dataTable =\n",
              "            await google.colab.kernel.invokeFunction('convertToInteractive',\n",
              "                                                     [key], {});\n",
              "          if (!dataTable) return;\n",
              "\n",
              "          const docLinkHtml = 'Like what you see? Visit the ' +\n",
              "            '<a target=\"_blank\" href=https://colab.research.google.com/notebooks/data_table.ipynb>data table notebook</a>'\n",
              "            + ' to learn more about interactive tables.';\n",
              "          element.innerHTML = '';\n",
              "          dataTable['output_type'] = 'display_data';\n",
              "          await google.colab.output.renderOutput(dataTable, element);\n",
              "          const docLink = document.createElement('div');\n",
              "          docLink.innerHTML = docLinkHtml;\n",
              "          element.appendChild(docLink);\n",
              "        }\n",
              "      </script>\n",
              "    </div>\n",
              "  </div>\n",
              "  "
            ]
          },
          "metadata": {},
          "execution_count": 7
        }
      ]
    },
    {
      "cell_type": "markdown",
      "source": [
        "Je transforme les fichiers .tsv en .json pour pouvoir les manipuler avec Spacy."
      ],
      "metadata": {
        "id": "4Sm2jGWw7xIe"
      }
    },
    {
      "cell_type": "code",
      "source": [
        "!mkdir training_json\n",
        "!python -m spacy convert /content/training_data/LOPE_CARDONA.tsv /content/training_json -t json -n 10 -c iob\n",
        "!python -m spacy convert /content/training_data/LOPE_OCASIONPERDIDA.tsv /content/training_json -t json -n 10 -c iob -b xx_ent_wiki_sm"
      ],
      "metadata": {
        "colab": {
          "base_uri": "https://localhost:8080/"
        },
        "id": "7gknJFnC70Dk",
        "outputId": "76722ec2-2bc4-4480-b9e5-8aa57f45840c"
      },
      "execution_count": 8,
      "outputs": [
        {
          "output_type": "stream",
          "name": "stdout",
          "text": [
            "2023-01-04 17:58:42.548310: I tensorflow/core/util/util.cc:169] oneDNN custom operations are on. You may see slightly different numerical results due to floating-point round-off errors from different computation orders. To turn them off, set the environment variable `TF_ENABLE_ONEDNN_OPTS=0`.\n",
            "\u001b[38;5;4mℹ Auto-detected token-per-line NER format\u001b[0m\n",
            "\u001b[38;5;3m⚠ No sentence boundaries found to use with option `-n 10`. Use `-s` to\n",
            "automatically segment sentences or `-n 0` to disable.\u001b[0m\n",
            "\u001b[38;5;3m⚠ No sentence boundaries found. Use `-s` to automatically segment\n",
            "sentences.\u001b[0m\n",
            "\u001b[38;5;3m⚠ No document delimiters found. Use `-n` to automatically group\n",
            "sentences into documents.\u001b[0m\n",
            "\u001b[38;5;2m✔ Generated output file (1 documents):\n",
            "/content/training_json/LOPE_CARDONA.json\u001b[0m\n",
            "2023-01-04 17:58:53.904127: I tensorflow/core/util/util.cc:169] oneDNN custom operations are on. You may see slightly different numerical results due to floating-point round-off errors from different computation orders. To turn them off, set the environment variable `TF_ENABLE_ONEDNN_OPTS=0`.\n",
            "\u001b[38;5;4mℹ Auto-detected token-per-line NER format\u001b[0m\n",
            "\u001b[38;5;3m⚠ No sentence boundaries found to use with option `-n 10`. Use `-s` to\n",
            "automatically segment sentences or `-n 0` to disable.\u001b[0m\n",
            "\u001b[38;5;3m⚠ No sentence boundaries found. Use `-s` to automatically segment\n",
            "sentences.\u001b[0m\n",
            "\u001b[38;5;3m⚠ No document delimiters found. Use `-n` to automatically group\n",
            "sentences into documents.\u001b[0m\n",
            "\u001b[38;5;2m✔ Generated output file (1 documents):\n",
            "/content/training_json/LOPE_OCASIONPERDIDA.json\u001b[0m\n"
          ]
        }
      ]
    },
    {
      "cell_type": "markdown",
      "source": [
        "J'affiche un extrait du résultat."
      ],
      "metadata": {
        "id": "xkLXPX9773R7"
      }
    },
    {
      "cell_type": "code",
      "source": [
        "f = open('/content/training_json/LOPE_CARDONA.json')\n",
        "content = f.readlines()\n",
        "print(*content[74:93])"
      ],
      "metadata": {
        "colab": {
          "base_uri": "https://localhost:8080/"
        },
        "id": "sm0eJvxB793G",
        "outputId": "bdb9cd39-ab8e-41b1-f3f6-924995ca90d5"
      },
      "execution_count": 9,
      "outputs": [
        {
          "output_type": "stream",
          "name": "stdout",
          "text": [
            "                \"orth\":\"al\",\n",
            "                 \"space\":\" \",\n",
            "                 \"tag\":\"-\",\n",
            "                 \"ner\":\"O\"\n",
            "               },\n",
            "               {\n",
            "                 \"id\":10,\n",
            "                 \"orth\":\"honor\",\n",
            "                 \"space\":\" \",\n",
            "                 \"tag\":\"-\",\n",
            "                 \"ner\":\"O\"\n",
            "               },\n",
            "               {\n",
            "                 \"id\":11,\n",
            "                 \"orth\":\"m\\u00e1s\",\n",
            "                 \"space\":\" \",\n",
            "                 \"tag\":\"-\",\n",
            "                 \"ner\":\"O\"\n",
            "               },\n",
            "\n"
          ]
        }
      ]
    },
    {
      "cell_type": "markdown",
      "source": [
        "Je transforme mon fichier .json dans le format spécifique de Spacy."
      ],
      "metadata": {
        "id": "ukCpDBcC7_Zk"
      }
    },
    {
      "cell_type": "code",
      "source": [
        "!mkdir training_spacy\n",
        "!python -m spacy convert /content/training_json/LOPE_CARDONA.json /content/training_spacy -t spacy\n",
        "!python -m spacy convert /content/training_json/LOPE_OCASIONPERDIDA.json /content/training_spacy -t spacy"
      ],
      "metadata": {
        "colab": {
          "base_uri": "https://localhost:8080/"
        },
        "id": "jibCEBN-8BVj",
        "outputId": "429281ef-6d41-4606-af49-9e05a926ba1d"
      },
      "execution_count": 10,
      "outputs": [
        {
          "output_type": "stream",
          "name": "stdout",
          "text": [
            "2023-01-04 17:59:34.508189: I tensorflow/core/util/util.cc:169] oneDNN custom operations are on. You may see slightly different numerical results due to floating-point round-off errors from different computation orders. To turn them off, set the environment variable `TF_ENABLE_ONEDNN_OPTS=0`.\n",
            "\u001b[38;5;2m✔ Generated output file (1 documents):\n",
            "/content/training_spacy/LOPE_CARDONA.spacy\u001b[0m\n",
            "2023-01-04 17:59:43.746402: I tensorflow/core/util/util.cc:169] oneDNN custom operations are on. You may see slightly different numerical results due to floating-point round-off errors from different computation orders. To turn them off, set the environment variable `TF_ENABLE_ONEDNN_OPTS=0`.\n",
            "\u001b[38;5;2m✔ Generated output file (1 documents):\n",
            "/content/training_spacy/LOPE_OCASIONPERDIDA.spacy\u001b[0m\n"
          ]
        }
      ]
    },
    {
      "cell_type": "markdown",
      "source": [
        "J'installe la bibliothèque NVIDIA 9.2 cuda."
      ],
      "metadata": {
        "id": "CCgac9Bs8Guy"
      }
    },
    {
      "cell_type": "code",
      "source": [
        "!wget https://developer.nvidia.com/compute/cuda/9.2/Prod/local_installers/cuda-repo-ubuntu1604-9-2-local_9.2.88-1_amd64 -O cuda-repo-ubuntu1604–9–2-local_9.2.88–1_amd64.deb\n",
        "!dpkg -i cuda-repo-ubuntu1604–9–2-local_9.2.88–1_amd64.deb\n",
        "!apt-key add /var/cuda-repo-9–2-local/7fa2af80.pub\n",
        "!apt-get update\n",
        "!apt-get install cuda-9.2\n",
        "!nvcc --version"
      ],
      "metadata": {
        "colab": {
          "base_uri": "https://localhost:8080/"
        },
        "id": "_wUzus208IuB",
        "outputId": "bd3dd4e1-805e-4eb0-9525-c27a1d2b0cfe"
      },
      "execution_count": 11,
      "outputs": [
        {
          "output_type": "stream",
          "name": "stdout",
          "text": [
            "--2023-01-04 18:00:12--  https://developer.nvidia.com/compute/cuda/9.2/Prod/local_installers/cuda-repo-ubuntu1604-9-2-local_9.2.88-1_amd64\n",
            "Resolving developer.nvidia.com (developer.nvidia.com)... 152.195.19.142\n",
            "Connecting to developer.nvidia.com (developer.nvidia.com)|152.195.19.142|:443... connected.\n",
            "HTTP request sent, awaiting response... 301 Moved Permanently\n",
            "Location: https://developer.nvidia.com/downloads/compute/cuda/9.2/Prod/local_installers/cuda-repo-ubuntu1604-9-2-local_9.2.88-1_amd64 [following]\n",
            "--2023-01-04 18:00:12--  https://developer.nvidia.com/downloads/compute/cuda/9.2/Prod/local_installers/cuda-repo-ubuntu1604-9-2-local_9.2.88-1_amd64\n",
            "Reusing existing connection to developer.nvidia.com:443.\n",
            "HTTP request sent, awaiting response... 302 Found\n",
            "Location: https://developer.download.nvidia.com/compute/cuda/9.2/secure/Prod/local_installers/cuda-repo-ubuntu1604-9-2-local_9.2.88-1_amd64.deb?jmi3S2-_d9cSE5MHd-Ax_iCoeVT7cepk4p76MSPeWoW4OhHPGacqGPyxk9szEjYNJwagLWoMZBQ1vrLAIeLGucdK1VCUTUd98nS-JlsrfDhXDx0lB87o0hg1B9JQ-N2UTjvy5rnHom2Q5F47aGwkQLCDQ99GJBZlHRtLhOoEeCUVHNpxz3fNRFDcsG8HUFC4ckwh89aqoGxgr7NNjlk= [following]\n",
            "--2023-01-04 18:00:13--  https://developer.download.nvidia.com/compute/cuda/9.2/secure/Prod/local_installers/cuda-repo-ubuntu1604-9-2-local_9.2.88-1_amd64.deb?jmi3S2-_d9cSE5MHd-Ax_iCoeVT7cepk4p76MSPeWoW4OhHPGacqGPyxk9szEjYNJwagLWoMZBQ1vrLAIeLGucdK1VCUTUd98nS-JlsrfDhXDx0lB87o0hg1B9JQ-N2UTjvy5rnHom2Q5F47aGwkQLCDQ99GJBZlHRtLhOoEeCUVHNpxz3fNRFDcsG8HUFC4ckwh89aqoGxgr7NNjlk=\n",
            "Resolving developer.download.nvidia.com (developer.download.nvidia.com)... 152.195.19.142\n",
            "Connecting to developer.download.nvidia.com (developer.download.nvidia.com)|152.195.19.142|:443... connected.\n",
            "HTTP request sent, awaiting response... 200 OK\n",
            "Length: 1267391958 (1.2G) [application/x-deb]\n",
            "Saving to: ‘cuda-repo-ubuntu1604–9–2-local_9.2.88–1_amd64.deb’\n",
            "\n",
            "cuda-repo-ubuntu160 100%[===================>]   1.18G  92.4MB/s    in 23s     \n",
            "\n",
            "2023-01-04 18:00:35 (52.9 MB/s) - ‘cuda-repo-ubuntu1604–9–2-local_9.2.88–1_amd64.deb’ saved [1267391958/1267391958]\n",
            "\n",
            "Selecting previously unselected package cuda-repo-ubuntu1604-9-2-local.\n",
            "(Reading database ... 124016 files and directories currently installed.)\n",
            "Preparing to unpack cuda-repo-ubuntu1604–9–2-local_9.2.88–1_amd64.deb ...\n",
            "Unpacking cuda-repo-ubuntu1604-9-2-local (9.2.88-1) ...\n",
            "Setting up cuda-repo-ubuntu1604-9-2-local (9.2.88-1) ...\n",
            "gpg: can't open '/var/cuda-repo-9–2-local/7fa2af80.pub': No such file or directory\n",
            "Get:1 file:/var/cuda-repo-9-2-local  InRelease\n",
            "Ign:1 file:/var/cuda-repo-9-2-local  InRelease\n",
            "Get:2 file:/var/cuda-repo-9-2-local  Release [574 B]\n",
            "Get:2 file:/var/cuda-repo-9-2-local  Release [574 B]\n",
            "Get:3 file:/var/cuda-repo-9-2-local  Release.gpg [819 B]\n",
            "Get:3 file:/var/cuda-repo-9-2-local  Release.gpg [819 B]\n",
            "Hit:4 http://archive.ubuntu.com/ubuntu bionic InRelease\n",
            "Get:5 https://cloud.r-project.org/bin/linux/ubuntu bionic-cran40/ InRelease [3,626 B]\n",
            "Get:6 http://archive.ubuntu.com/ubuntu bionic-updates InRelease [88.7 kB]\n",
            "Ign:7 https://developer.download.nvidia.com/compute/machine-learning/repos/ubuntu1804/x86_64  InRelease\n",
            "Hit:8 https://developer.download.nvidia.com/compute/cuda/repos/ubuntu1804/x86_64  InRelease\n",
            "Hit:9 https://developer.download.nvidia.com/compute/machine-learning/repos/ubuntu1804/x86_64  Release\n",
            "Get:10 http://security.ubuntu.com/ubuntu bionic-security InRelease [88.7 kB]\n",
            "Get:11 file:/var/cuda-repo-9-2-local  Packages [18.7 kB]\n",
            "Get:12 http://archive.ubuntu.com/ubuntu bionic-backports InRelease [83.3 kB]\n",
            "Hit:13 http://ppa.launchpad.net/c2d4u.team/c2d4u4.0+/ubuntu bionic InRelease\n",
            "Hit:14 http://ppa.launchpad.net/cran/libgit2/ubuntu bionic InRelease\n",
            "Hit:15 http://ppa.launchpad.net/deadsnakes/ppa/ubuntu bionic InRelease\n",
            "Hit:17 http://ppa.launchpad.net/graphics-drivers/ppa/ubuntu bionic InRelease\n",
            "Get:18 http://archive.ubuntu.com/ubuntu bionic-updates/main amd64 Packages [3,525 kB]\n",
            "Get:19 http://archive.ubuntu.com/ubuntu bionic-updates/universe amd64 Packages [2,344 kB]\n",
            "Get:20 http://security.ubuntu.com/ubuntu bionic-security/main amd64 Packages [3,100 kB]\n",
            "Get:21 http://security.ubuntu.com/ubuntu bionic-security/universe amd64 Packages [1,568 kB]\n",
            "Fetched 10.8 MB in 2s (4,614 kB/s)\n",
            "Reading package lists... Done\n",
            "Reading package lists... Done\n",
            "Building dependency tree       \n",
            "Reading state information... Done\n",
            "Note, selecting 'cuda-9-2' for regex 'cuda-9.2'\n",
            "Note, selecting 'libcuda-9.2-1' for regex 'cuda-9.2'\n",
            "The following package was automatically installed and is no longer required:\n",
            "  libnvidia-common-460\n",
            "Use 'apt autoremove' to remove it.\n",
            "The following additional packages will be installed:\n",
            "  cuda-command-line-tools-9-2 cuda-compiler-9-2 cuda-cublas-9-2\n",
            "  cuda-cublas-dev-9-2 cuda-cudart-9-2 cuda-cudart-dev-9-2 cuda-cufft-9-2\n",
            "  cuda-cufft-dev-9-2 cuda-cuobjdump-9-2 cuda-cupti-9-2 cuda-curand-9-2\n",
            "  cuda-curand-dev-9-2 cuda-cusolver-9-2 cuda-cusolver-dev-9-2\n",
            "  cuda-cusparse-9-2 cuda-cusparse-dev-9-2 cuda-demo-suite-9-2\n",
            "  cuda-documentation-9-2 cuda-driver-dev-9-2 cuda-gdb-9-2\n",
            "  cuda-gpu-library-advisor-9-2 cuda-libraries-9-2 cuda-libraries-dev-9-2\n",
            "  cuda-license-9-2 cuda-memcheck-9-2 cuda-misc-headers-9-2 cuda-npp-9-2\n",
            "  cuda-npp-dev-9-2 cuda-nsight-9-2 cuda-nvcc-9-2 cuda-nvdisasm-9-2\n",
            "  cuda-nvgraph-9-2 cuda-nvgraph-dev-9-2 cuda-nvml-dev-9-2 cuda-nvprof-9-2\n",
            "  cuda-nvprune-9-2 cuda-nvrtc-9-2 cuda-nvrtc-dev-9-2 cuda-nvtx-9-2\n",
            "  cuda-nvvp-9-2 cuda-runtime-9-2 cuda-samples-9-2 cuda-toolkit-9-2\n",
            "  cuda-tools-9-2 cuda-visual-tools-9-2 freeglut3 freeglut3-dev libxi-dev\n",
            "  libxmu-dev libxmu-headers x11proto-input-dev\n",
            "The following NEW packages will be installed:\n",
            "  cuda-9-2 cuda-command-line-tools-9-2 cuda-compiler-9-2 cuda-cublas-9-2\n",
            "  cuda-cublas-dev-9-2 cuda-cudart-9-2 cuda-cudart-dev-9-2 cuda-cufft-9-2\n",
            "  cuda-cufft-dev-9-2 cuda-cuobjdump-9-2 cuda-cupti-9-2 cuda-curand-9-2\n",
            "  cuda-curand-dev-9-2 cuda-cusolver-9-2 cuda-cusolver-dev-9-2\n",
            "  cuda-cusparse-9-2 cuda-cusparse-dev-9-2 cuda-demo-suite-9-2\n",
            "  cuda-documentation-9-2 cuda-driver-dev-9-2 cuda-gdb-9-2\n",
            "  cuda-gpu-library-advisor-9-2 cuda-libraries-9-2 cuda-libraries-dev-9-2\n",
            "  cuda-license-9-2 cuda-memcheck-9-2 cuda-misc-headers-9-2 cuda-npp-9-2\n",
            "  cuda-npp-dev-9-2 cuda-nsight-9-2 cuda-nvcc-9-2 cuda-nvdisasm-9-2\n",
            "  cuda-nvgraph-9-2 cuda-nvgraph-dev-9-2 cuda-nvml-dev-9-2 cuda-nvprof-9-2\n",
            "  cuda-nvprune-9-2 cuda-nvrtc-9-2 cuda-nvrtc-dev-9-2 cuda-nvtx-9-2\n",
            "  cuda-nvvp-9-2 cuda-runtime-9-2 cuda-samples-9-2 cuda-toolkit-9-2\n",
            "  cuda-tools-9-2 cuda-visual-tools-9-2 freeglut3 freeglut3-dev libxi-dev\n",
            "  libxmu-dev libxmu-headers x11proto-input-dev\n",
            "0 upgraded, 52 newly installed, 0 to remove and 20 not upgraded.\n",
            "Need to get 489 kB/1,146 MB of archives.\n",
            "After this operation, 2,644 MB of additional disk space will be used.\n",
            "Get:1 file:/var/cuda-repo-9-2-local  cuda-license-9-2 9.2.88-1 [22.0 kB]\n",
            "Get:2 file:/var/cuda-repo-9-2-local  cuda-misc-headers-9-2 9.2.88-1 [640 kB]\n",
            "Get:3 file:/var/cuda-repo-9-2-local  cuda-nvcc-9-2 9.2.88-1 [15.4 MB]\n",
            "Get:4 file:/var/cuda-repo-9-2-local  cuda-cuobjdump-9-2 9.2.88-1 [129 kB]\n",
            "Get:5 file:/var/cuda-repo-9-2-local  cuda-nvprune-9-2 9.2.88-1 [36.7 kB]\n",
            "Get:6 file:/var/cuda-repo-9-2-local  cuda-compiler-9-2 9.2.88-1 [2,518 B]\n",
            "Get:7 http://archive.ubuntu.com/ubuntu bionic/universe amd64 freeglut3 amd64 2.8.1-3 [73.6 kB]\n",
            "Get:8 file:/var/cuda-repo-9-2-local  cuda-nvdisasm-9-2 9.2.88-1 [17.4 MB]\n",
            "Get:9 file:/var/cuda-repo-9-2-local  cuda-gdb-9-2 9.2.88-1 [2,765 kB]\n",
            "Get:10 file:/var/cuda-repo-9-2-local  cuda-nvprof-9-2 9.2.88-1 [4,737 kB]\n",
            "Get:11 file:/var/cuda-repo-9-2-local  cuda-memcheck-9-2 9.2.88-1 [137 kB]\n",
            "Get:12 file:/var/cuda-repo-9-2-local  cuda-cudart-9-2 9.2.88-1 [97.8 kB]\n",
            "Get:13 file:/var/cuda-repo-9-2-local  cuda-driver-dev-9-2 9.2.88-1 [11.1 kB]\n",
            "Get:14 file:/var/cuda-repo-9-2-local  cuda-cudart-dev-9-2 9.2.88-1 [718 kB]\n",
            "Get:15 file:/var/cuda-repo-9-2-local  cuda-cupti-9-2 9.2.88-1 [1,537 kB]\n",
            "Get:16 file:/var/cuda-repo-9-2-local  cuda-gpu-library-advisor-9-2 9.2.88-1 [1,002 kB]\n",
            "Get:17 file:/var/cuda-repo-9-2-local  cuda-nvtx-9-2 9.2.88-1 [24.3 kB]\n",
            "Get:18 file:/var/cuda-repo-9-2-local  cuda-command-line-tools-9-2 9.2.88-1 [26.3 kB]\n",
            "Get:19 file:/var/cuda-repo-9-2-local  cuda-nsight-9-2 9.2.88-1 [2,580 B]\n",
            "Get:20 file:/var/cuda-repo-9-2-local  cuda-nvvp-9-2 9.2.88-1 [2,528 B]\n",
            "Get:21 http://archive.ubuntu.com/ubuntu bionic/universe amd64 freeglut3-dev amd64 2.8.1-3 [124 kB]\n",
            "Get:22 file:/var/cuda-repo-9-2-local  cuda-nvrtc-9-2 9.2.88-1 [5,908 kB]\n",
            "Get:23 file:/var/cuda-repo-9-2-local  cuda-nvrtc-dev-9-2 9.2.88-1 [9,318 B]\n",
            "Get:24 http://archive.ubuntu.com/ubuntu bionic/main amd64 libxmu-headers all 2:1.1.2-2 [54.3 kB]\n",
            "Get:25 http://archive.ubuntu.com/ubuntu bionic/main amd64 libxmu-dev amd64 2:1.1.2-2 [49.0 kB]\n",
            "Get:26 http://archive.ubuntu.com/ubuntu bionic/main amd64 x11proto-input-dev all 2018.4-4 [2,620 B]\n",
            "Get:27 http://archive.ubuntu.com/ubuntu bionic/main amd64 libxi-dev amd64 2:1.7.9-1 [186 kB]\n",
            "Get:28 file:/var/cuda-repo-9-2-local  cuda-cusolver-9-2 9.2.88-1 [31.1 MB]\n",
            "Get:29 file:/var/cuda-repo-9-2-local  cuda-cusolver-dev-9-2 9.2.88-1 [8,184 kB]\n",
            "Get:30 file:/var/cuda-repo-9-2-local  cuda-cublas-9-2 9.2.88-1 [24.9 MB]\n",
            "Get:31 file:/var/cuda-repo-9-2-local  cuda-cublas-dev-9-2 9.2.88-1 [49.1 MB]\n",
            "Get:32 file:/var/cuda-repo-9-2-local  cuda-cufft-9-2 9.2.88-1 [51.5 MB]\n",
            "Get:33 file:/var/cuda-repo-9-2-local  cuda-cufft-dev-9-2 9.2.88-1 [106 MB]\n",
            "Get:34 file:/var/cuda-repo-9-2-local  cuda-curand-9-2 9.2.88-1 [38.8 MB]\n",
            "Get:35 file:/var/cuda-repo-9-2-local  cuda-curand-dev-9-2 9.2.88-1 [57.8 MB]\n",
            "Get:36 file:/var/cuda-repo-9-2-local  cuda-cusparse-9-2 9.2.88-1 [27.6 MB]\n",
            "Get:37 file:/var/cuda-repo-9-2-local  cuda-cusparse-dev-9-2 9.2.88-1 [27.8 MB]\n",
            "Get:38 file:/var/cuda-repo-9-2-local  cuda-npp-9-2 9.2.88-1 [52.1 MB]\n",
            "Get:39 file:/var/cuda-repo-9-2-local  cuda-npp-dev-9-2 9.2.88-1 [52.0 MB]\n",
            "Get:40 file:/var/cuda-repo-9-2-local  cuda-nvml-dev-9-2 9.2.88-1 [49.4 kB]\n",
            "Get:41 file:/var/cuda-repo-9-2-local  cuda-nvgraph-9-2 9.2.88-1 [11.7 MB]\n",
            "Get:42 file:/var/cuda-repo-9-2-local  cuda-nvgraph-dev-9-2 9.2.88-1 [30.0 MB]\n",
            "Get:43 file:/var/cuda-repo-9-2-local  cuda-visual-tools-9-2 9.2.88-1 [396 MB]\n",
            "Get:44 file:/var/cuda-repo-9-2-local  cuda-tools-9-2 9.2.88-1 [2,486 B]\n",
            "Get:45 file:/var/cuda-repo-9-2-local  cuda-samples-9-2 9.2.88-1 [76.3 MB]\n",
            "Get:46 file:/var/cuda-repo-9-2-local  cuda-documentation-9-2 9.2.88-1 [50.4 MB]\n",
            "Get:47 file:/var/cuda-repo-9-2-local  cuda-libraries-dev-9-2 9.2.88-1 [2,598 B]\n",
            "Get:48 file:/var/cuda-repo-9-2-local  cuda-toolkit-9-2 9.2.88-1 [2,828 B]\n",
            "Get:49 file:/var/cuda-repo-9-2-local  cuda-libraries-9-2 9.2.88-1 [2,568 B]\n",
            "Get:50 file:/var/cuda-repo-9-2-local  cuda-runtime-9-2 9.2.88-1 [2,530 B]\n",
            "Get:51 file:/var/cuda-repo-9-2-local  cuda-demo-suite-9-2 9.2.88-1 [3,889 kB]\n",
            "Get:52 file:/var/cuda-repo-9-2-local  cuda-9-2 9.2.88-1 [2,560 B]\n",
            "Fetched 489 kB in 16s (30.4 kB/s)\n",
            "Extracting templates from packages: 100%\n",
            "Selecting previously unselected package cuda-license-9-2.\n",
            "(Reading database ... 124089 files and directories currently installed.)\n",
            "Preparing to unpack .../00-cuda-license-9-2_9.2.88-1_amd64.deb ...\n",
            "Unpacking cuda-license-9-2 (9.2.88-1) ...\n",
            "Selecting previously unselected package cuda-misc-headers-9-2.\n",
            "Preparing to unpack .../01-cuda-misc-headers-9-2_9.2.88-1_amd64.deb ...\n",
            "Unpacking cuda-misc-headers-9-2 (9.2.88-1) ...\n",
            "Selecting previously unselected package cuda-nvcc-9-2.\n",
            "Preparing to unpack .../02-cuda-nvcc-9-2_9.2.88-1_amd64.deb ...\n",
            "Unpacking cuda-nvcc-9-2 (9.2.88-1) ...\n",
            "Selecting previously unselected package cuda-cuobjdump-9-2.\n",
            "Preparing to unpack .../03-cuda-cuobjdump-9-2_9.2.88-1_amd64.deb ...\n",
            "Unpacking cuda-cuobjdump-9-2 (9.2.88-1) ...\n",
            "Selecting previously unselected package cuda-nvprune-9-2.\n",
            "Preparing to unpack .../04-cuda-nvprune-9-2_9.2.88-1_amd64.deb ...\n",
            "Unpacking cuda-nvprune-9-2 (9.2.88-1) ...\n",
            "Selecting previously unselected package cuda-compiler-9-2.\n",
            "Preparing to unpack .../05-cuda-compiler-9-2_9.2.88-1_amd64.deb ...\n",
            "Unpacking cuda-compiler-9-2 (9.2.88-1) ...\n",
            "Selecting previously unselected package cuda-nvdisasm-9-2.\n",
            "Preparing to unpack .../06-cuda-nvdisasm-9-2_9.2.88-1_amd64.deb ...\n",
            "Unpacking cuda-nvdisasm-9-2 (9.2.88-1) ...\n",
            "Selecting previously unselected package cuda-gdb-9-2.\n",
            "Preparing to unpack .../07-cuda-gdb-9-2_9.2.88-1_amd64.deb ...\n",
            "Unpacking cuda-gdb-9-2 (9.2.88-1) ...\n",
            "Selecting previously unselected package cuda-nvprof-9-2.\n",
            "Preparing to unpack .../08-cuda-nvprof-9-2_9.2.88-1_amd64.deb ...\n",
            "Unpacking cuda-nvprof-9-2 (9.2.88-1) ...\n",
            "Selecting previously unselected package cuda-memcheck-9-2.\n",
            "Preparing to unpack .../09-cuda-memcheck-9-2_9.2.88-1_amd64.deb ...\n",
            "Unpacking cuda-memcheck-9-2 (9.2.88-1) ...\n",
            "Selecting previously unselected package cuda-cudart-9-2.\n",
            "Preparing to unpack .../10-cuda-cudart-9-2_9.2.88-1_amd64.deb ...\n",
            "Unpacking cuda-cudart-9-2 (9.2.88-1) ...\n",
            "Selecting previously unselected package cuda-driver-dev-9-2.\n",
            "Preparing to unpack .../11-cuda-driver-dev-9-2_9.2.88-1_amd64.deb ...\n",
            "Unpacking cuda-driver-dev-9-2 (9.2.88-1) ...\n",
            "Selecting previously unselected package cuda-cudart-dev-9-2.\n",
            "Preparing to unpack .../12-cuda-cudart-dev-9-2_9.2.88-1_amd64.deb ...\n",
            "Unpacking cuda-cudart-dev-9-2 (9.2.88-1) ...\n",
            "Selecting previously unselected package cuda-cupti-9-2.\n",
            "Preparing to unpack .../13-cuda-cupti-9-2_9.2.88-1_amd64.deb ...\n",
            "Unpacking cuda-cupti-9-2 (9.2.88-1) ...\n",
            "Selecting previously unselected package cuda-gpu-library-advisor-9-2.\n",
            "Preparing to unpack .../14-cuda-gpu-library-advisor-9-2_9.2.88-1_amd64.deb ...\n",
            "Unpacking cuda-gpu-library-advisor-9-2 (9.2.88-1) ...\n",
            "Selecting previously unselected package cuda-nvtx-9-2.\n",
            "Preparing to unpack .../15-cuda-nvtx-9-2_9.2.88-1_amd64.deb ...\n",
            "Unpacking cuda-nvtx-9-2 (9.2.88-1) ...\n",
            "Selecting previously unselected package cuda-command-line-tools-9-2.\n",
            "Preparing to unpack .../16-cuda-command-line-tools-9-2_9.2.88-1_amd64.deb ...\n",
            "Unpacking cuda-command-line-tools-9-2 (9.2.88-1) ...\n",
            "Selecting previously unselected package cuda-nsight-9-2.\n",
            "Preparing to unpack .../17-cuda-nsight-9-2_9.2.88-1_amd64.deb ...\n",
            "Unpacking cuda-nsight-9-2 (9.2.88-1) ...\n",
            "Selecting previously unselected package cuda-nvvp-9-2.\n",
            "Preparing to unpack .../18-cuda-nvvp-9-2_9.2.88-1_amd64.deb ...\n",
            "Unpacking cuda-nvvp-9-2 (9.2.88-1) ...\n",
            "Selecting previously unselected package cuda-nvrtc-9-2.\n",
            "Preparing to unpack .../19-cuda-nvrtc-9-2_9.2.88-1_amd64.deb ...\n",
            "Unpacking cuda-nvrtc-9-2 (9.2.88-1) ...\n",
            "Selecting previously unselected package cuda-nvrtc-dev-9-2.\n",
            "Preparing to unpack .../20-cuda-nvrtc-dev-9-2_9.2.88-1_amd64.deb ...\n",
            "Unpacking cuda-nvrtc-dev-9-2 (9.2.88-1) ...\n",
            "Selecting previously unselected package cuda-cusolver-9-2.\n",
            "Preparing to unpack .../21-cuda-cusolver-9-2_9.2.88-1_amd64.deb ...\n",
            "Unpacking cuda-cusolver-9-2 (9.2.88-1) ...\n",
            "Selecting previously unselected package cuda-cusolver-dev-9-2.\n",
            "Preparing to unpack .../22-cuda-cusolver-dev-9-2_9.2.88-1_amd64.deb ...\n",
            "Unpacking cuda-cusolver-dev-9-2 (9.2.88-1) ...\n",
            "Selecting previously unselected package cuda-cublas-9-2.\n",
            "Preparing to unpack .../23-cuda-cublas-9-2_9.2.88-1_amd64.deb ...\n",
            "Unpacking cuda-cublas-9-2 (9.2.88-1) ...\n",
            "Selecting previously unselected package cuda-cublas-dev-9-2.\n",
            "Preparing to unpack .../24-cuda-cublas-dev-9-2_9.2.88-1_amd64.deb ...\n",
            "Unpacking cuda-cublas-dev-9-2 (9.2.88-1) ...\n",
            "Selecting previously unselected package cuda-cufft-9-2.\n",
            "Preparing to unpack .../25-cuda-cufft-9-2_9.2.88-1_amd64.deb ...\n",
            "Unpacking cuda-cufft-9-2 (9.2.88-1) ...\n",
            "Selecting previously unselected package cuda-cufft-dev-9-2.\n",
            "Preparing to unpack .../26-cuda-cufft-dev-9-2_9.2.88-1_amd64.deb ...\n",
            "Unpacking cuda-cufft-dev-9-2 (9.2.88-1) ...\n",
            "Selecting previously unselected package cuda-curand-9-2.\n",
            "Preparing to unpack .../27-cuda-curand-9-2_9.2.88-1_amd64.deb ...\n",
            "Unpacking cuda-curand-9-2 (9.2.88-1) ...\n",
            "Selecting previously unselected package cuda-curand-dev-9-2.\n",
            "Preparing to unpack .../28-cuda-curand-dev-9-2_9.2.88-1_amd64.deb ...\n",
            "Unpacking cuda-curand-dev-9-2 (9.2.88-1) ...\n",
            "Selecting previously unselected package cuda-cusparse-9-2.\n",
            "Preparing to unpack .../29-cuda-cusparse-9-2_9.2.88-1_amd64.deb ...\n",
            "Unpacking cuda-cusparse-9-2 (9.2.88-1) ...\n",
            "Selecting previously unselected package cuda-cusparse-dev-9-2.\n",
            "Preparing to unpack .../30-cuda-cusparse-dev-9-2_9.2.88-1_amd64.deb ...\n",
            "Unpacking cuda-cusparse-dev-9-2 (9.2.88-1) ...\n",
            "Selecting previously unselected package cuda-npp-9-2.\n",
            "Preparing to unpack .../31-cuda-npp-9-2_9.2.88-1_amd64.deb ...\n",
            "Unpacking cuda-npp-9-2 (9.2.88-1) ...\n",
            "Selecting previously unselected package cuda-npp-dev-9-2.\n",
            "Preparing to unpack .../32-cuda-npp-dev-9-2_9.2.88-1_amd64.deb ...\n",
            "Unpacking cuda-npp-dev-9-2 (9.2.88-1) ...\n",
            "Selecting previously unselected package cuda-nvml-dev-9-2.\n",
            "Preparing to unpack .../33-cuda-nvml-dev-9-2_9.2.88-1_amd64.deb ...\n",
            "Unpacking cuda-nvml-dev-9-2 (9.2.88-1) ...\n",
            "Selecting previously unselected package cuda-nvgraph-9-2.\n",
            "Preparing to unpack .../34-cuda-nvgraph-9-2_9.2.88-1_amd64.deb ...\n",
            "Unpacking cuda-nvgraph-9-2 (9.2.88-1) ...\n",
            "Selecting previously unselected package cuda-nvgraph-dev-9-2.\n",
            "Preparing to unpack .../35-cuda-nvgraph-dev-9-2_9.2.88-1_amd64.deb ...\n",
            "Unpacking cuda-nvgraph-dev-9-2 (9.2.88-1) ...\n",
            "Selecting previously unselected package cuda-visual-tools-9-2.\n",
            "Preparing to unpack .../36-cuda-visual-tools-9-2_9.2.88-1_amd64.deb ...\n",
            "Unpacking cuda-visual-tools-9-2 (9.2.88-1) ...\n",
            "Selecting previously unselected package cuda-tools-9-2.\n",
            "Preparing to unpack .../37-cuda-tools-9-2_9.2.88-1_amd64.deb ...\n",
            "Unpacking cuda-tools-9-2 (9.2.88-1) ...\n",
            "Selecting previously unselected package freeglut3:amd64.\n",
            "Preparing to unpack .../38-freeglut3_2.8.1-3_amd64.deb ...\n",
            "Unpacking freeglut3:amd64 (2.8.1-3) ...\n",
            "Selecting previously unselected package freeglut3-dev:amd64.\n",
            "Preparing to unpack .../39-freeglut3-dev_2.8.1-3_amd64.deb ...\n",
            "Unpacking freeglut3-dev:amd64 (2.8.1-3) ...\n",
            "Selecting previously unselected package libxmu-headers.\n",
            "Preparing to unpack .../40-libxmu-headers_2%3a1.1.2-2_all.deb ...\n",
            "Unpacking libxmu-headers (2:1.1.2-2) ...\n",
            "Selecting previously unselected package libxmu-dev:amd64.\n",
            "Preparing to unpack .../41-libxmu-dev_2%3a1.1.2-2_amd64.deb ...\n",
            "Unpacking libxmu-dev:amd64 (2:1.1.2-2) ...\n",
            "Selecting previously unselected package x11proto-input-dev.\n",
            "Preparing to unpack .../42-x11proto-input-dev_2018.4-4_all.deb ...\n",
            "Unpacking x11proto-input-dev (2018.4-4) ...\n",
            "Selecting previously unselected package libxi-dev:amd64.\n",
            "Preparing to unpack .../43-libxi-dev_2%3a1.7.9-1_amd64.deb ...\n",
            "Unpacking libxi-dev:amd64 (2:1.7.9-1) ...\n",
            "Selecting previously unselected package cuda-samples-9-2.\n",
            "Preparing to unpack .../44-cuda-samples-9-2_9.2.88-1_amd64.deb ...\n",
            "Unpacking cuda-samples-9-2 (9.2.88-1) ...\n",
            "Selecting previously unselected package cuda-documentation-9-2.\n",
            "Preparing to unpack .../45-cuda-documentation-9-2_9.2.88-1_amd64.deb ...\n",
            "Unpacking cuda-documentation-9-2 (9.2.88-1) ...\n",
            "Selecting previously unselected package cuda-libraries-dev-9-2.\n",
            "Preparing to unpack .../46-cuda-libraries-dev-9-2_9.2.88-1_amd64.deb ...\n",
            "Unpacking cuda-libraries-dev-9-2 (9.2.88-1) ...\n",
            "Selecting previously unselected package cuda-toolkit-9-2.\n",
            "Preparing to unpack .../47-cuda-toolkit-9-2_9.2.88-1_amd64.deb ...\n",
            "Unpacking cuda-toolkit-9-2 (9.2.88-1) ...\n",
            "Selecting previously unselected package cuda-libraries-9-2.\n",
            "Preparing to unpack .../48-cuda-libraries-9-2_9.2.88-1_amd64.deb ...\n",
            "Unpacking cuda-libraries-9-2 (9.2.88-1) ...\n",
            "Selecting previously unselected package cuda-runtime-9-2.\n",
            "Preparing to unpack .../49-cuda-runtime-9-2_9.2.88-1_amd64.deb ...\n",
            "Unpacking cuda-runtime-9-2 (9.2.88-1) ...\n",
            "Selecting previously unselected package cuda-demo-suite-9-2.\n",
            "Preparing to unpack .../50-cuda-demo-suite-9-2_9.2.88-1_amd64.deb ...\n",
            "Unpacking cuda-demo-suite-9-2 (9.2.88-1) ...\n",
            "Selecting previously unselected package cuda-9-2.\n",
            "Preparing to unpack .../51-cuda-9-2_9.2.88-1_amd64.deb ...\n",
            "Unpacking cuda-9-2 (9.2.88-1) ...\n",
            "Setting up freeglut3:amd64 (2.8.1-3) ...\n",
            "Setting up libxmu-headers (2:1.1.2-2) ...\n",
            "Setting up cuda-license-9-2 (9.2.88-1) ...\n",
            "*** LICENSE AGREEMENT ***\n",
            "By using this software you agree to fully comply with the terms and \n",
            "conditions of the EULA (End User License Agreement). The EULA is located\n",
            "at /usr/local/cuda-9.2/doc/EULA.txt. The EULA can also be found at\n",
            "http://docs.nvidia.com/cuda/eula/index.html. If you do not agree to the\n",
            "terms and conditions of the EULA, do not use the software.\n",
            "\n",
            "Setting up cuda-nvprune-9-2 (9.2.88-1) ...\n",
            "Setting up cuda-cudart-9-2 (9.2.88-1) ...\n",
            "Setting up cuda-nvprof-9-2 (9.2.88-1) ...\n",
            "Setting up cuda-nvrtc-9-2 (9.2.88-1) ...\n",
            "Setting up cuda-nvtx-9-2 (9.2.88-1) ...\n",
            "Setting up cuda-cusolver-9-2 (9.2.88-1) ...\n",
            "Setting up cuda-nvml-dev-9-2 (9.2.88-1) ...\n",
            "Setting up freeglut3-dev:amd64 (2.8.1-3) ...\n",
            "Setting up x11proto-input-dev (2018.4-4) ...\n",
            "Setting up cuda-cufft-9-2 (9.2.88-1) ...\n",
            "Setting up cuda-npp-9-2 (9.2.88-1) ...\n",
            "Setting up cuda-misc-headers-9-2 (9.2.88-1) ...\n",
            "Setting up cuda-memcheck-9-2 (9.2.88-1) ...\n",
            "Setting up cuda-npp-dev-9-2 (9.2.88-1) ...\n",
            "Setting up cuda-nvdisasm-9-2 (9.2.88-1) ...\n",
            "Setting up cuda-nvvp-9-2 (9.2.88-1) ...\n",
            "Setting up cuda-nvrtc-dev-9-2 (9.2.88-1) ...\n",
            "Setting up cuda-driver-dev-9-2 (9.2.88-1) ...\n",
            "Setting up cuda-curand-9-2 (9.2.88-1) ...\n",
            "Setting up cuda-cusolver-dev-9-2 (9.2.88-1) ...\n",
            "Setting up libxmu-dev:amd64 (2:1.1.2-2) ...\n",
            "Setting up cuda-nsight-9-2 (9.2.88-1) ...\n",
            "Setting up cuda-cublas-9-2 (9.2.88-1) ...\n",
            "Setting up cuda-cuobjdump-9-2 (9.2.88-1) ...\n",
            "Setting up cuda-cusparse-9-2 (9.2.88-1) ...\n",
            "Setting up cuda-nvgraph-9-2 (9.2.88-1) ...\n",
            "Setting up cuda-gpu-library-advisor-9-2 (9.2.88-1) ...\n",
            "Setting up cuda-gdb-9-2 (9.2.88-1) ...\n",
            "Setting up cuda-cudart-dev-9-2 (9.2.88-1) ...\n",
            "Setting up cuda-cufft-dev-9-2 (9.2.88-1) ...\n",
            "Setting up cuda-libraries-9-2 (9.2.88-1) ...\n",
            "Setting up cuda-cusparse-dev-9-2 (9.2.88-1) ...\n",
            "Setting up cuda-runtime-9-2 (9.2.88-1) ...\n",
            "Setting up libxi-dev:amd64 (2:1.7.9-1) ...\n",
            "Setting up cuda-nvcc-9-2 (9.2.88-1) ...\n",
            "Setting up cuda-cupti-9-2 (9.2.88-1) ...\n",
            "Setting up cuda-cublas-dev-9-2 (9.2.88-1) ...\n",
            "Setting up cuda-nvgraph-dev-9-2 (9.2.88-1) ...\n",
            "Setting up cuda-command-line-tools-9-2 (9.2.88-1) ...\n",
            "Setting up cuda-curand-dev-9-2 (9.2.88-1) ...\n",
            "Setting up cuda-demo-suite-9-2 (9.2.88-1) ...\n",
            "Setting up cuda-visual-tools-9-2 (9.2.88-1) ...\n",
            "Setting up cuda-compiler-9-2 (9.2.88-1) ...\n",
            "Setting up cuda-libraries-dev-9-2 (9.2.88-1) ...\n",
            "Setting up cuda-samples-9-2 (9.2.88-1) ...\n",
            "Setting up cuda-documentation-9-2 (9.2.88-1) ...\n",
            "Setting up cuda-tools-9-2 (9.2.88-1) ...\n",
            "Setting up cuda-toolkit-9-2 (9.2.88-1) ...\n",
            "Setting up cuda-9-2 (9.2.88-1) ...\n",
            "Processing triggers for man-db (2.8.3-2ubuntu0.1) ...\n",
            "Processing triggers for libc-bin (2.27-3ubuntu1.6) ...\n",
            "nvcc: NVIDIA (R) Cuda compiler driver\n",
            "Copyright (c) 2005-2018 NVIDIA Corporation\n",
            "Built on Wed_Apr_11_23:16:29_CDT_2018\n",
            "Cuda compilation tools, release 9.2, V9.2.88\n"
          ]
        }
      ]
    },
    {
      "cell_type": "markdown",
      "source": [
        "J'installe PyTorch pour le machine learning."
      ],
      "metadata": {
        "id": "LGrniJQm8QFO"
      }
    },
    {
      "cell_type": "code",
      "source": [
        "!pip install torch==1.7.1+cu92 torchvision==0.8.2+cu92 torchaudio==0.7.2 -f https://download.pytorch.org/whl/torch_stable.html\n"
      ],
      "metadata": {
        "colab": {
          "base_uri": "https://localhost:8080/"
        },
        "id": "zvG32tns8Q4r",
        "outputId": "d803339b-e3c9-422b-ce39-b6ca57ec14d9"
      },
      "execution_count": 20,
      "outputs": [
        {
          "output_type": "stream",
          "name": "stdout",
          "text": [
            "Looking in indexes: https://pypi.org/simple, https://us-python.pkg.dev/colab-wheels/public/simple/\n",
            "Looking in links: https://download.pytorch.org/whl/torch_stable.html\n",
            "Requirement already satisfied: torch==1.7.1+cu92 in /usr/local/lib/python3.8/dist-packages (1.7.1+cu92)\n",
            "Requirement already satisfied: torchvision==0.8.2+cu92 in /usr/local/lib/python3.8/dist-packages (0.8.2+cu92)\n",
            "Requirement already satisfied: torchaudio==0.7.2 in /usr/local/lib/python3.8/dist-packages (0.7.2)\n",
            "Requirement already satisfied: typing-extensions in /usr/local/lib/python3.8/dist-packages (from torch==1.7.1+cu92) (4.4.0)\n",
            "Requirement already satisfied: numpy in /usr/local/lib/python3.8/dist-packages (from torch==1.7.1+cu92) (1.21.6)\n",
            "Requirement already satisfied: pillow>=4.1.1 in /usr/local/lib/python3.8/dist-packages (from torchvision==0.8.2+cu92) (7.1.2)\n"
          ]
        }
      ]
    },
    {
      "cell_type": "markdown",
      "source": [
        "J'installe les transformeurs Spacy et je modifie le path."
      ],
      "metadata": {
        "id": "XpX2C0Fr8UHJ"
      }
    },
    {
      "cell_type": "code",
      "source": [
        "!pip install -U spacy[cuda92,transformers]\n",
        "!export CUDA_PATH=”/usr/local/cuda-9.2\"\n",
        "!export LD_LIBRARY_PATH=$CUDA_PATH/lib64:$LD_LIBRARY_PATH"
      ],
      "metadata": {
        "colab": {
          "base_uri": "https://localhost:8080/"
        },
        "id": "iOwhEus-8Yr6",
        "outputId": "de4605ca-c971-418c-980b-468c034c84dc"
      },
      "execution_count": 13,
      "outputs": [
        {
          "output_type": "stream",
          "name": "stdout",
          "text": [
            "Looking in indexes: https://pypi.org/simple, https://us-python.pkg.dev/colab-wheels/public/simple/\n",
            "Requirement already satisfied: spacy[cuda92,transformers] in /usr/local/lib/python3.8/dist-packages (3.4.4)\n",
            "Requirement already satisfied: smart-open<7.0.0,>=5.2.1 in /usr/local/lib/python3.8/dist-packages (from spacy[cuda92,transformers]) (6.3.0)\n",
            "Requirement already satisfied: catalogue<2.1.0,>=2.0.6 in /usr/local/lib/python3.8/dist-packages (from spacy[cuda92,transformers]) (2.0.8)\n",
            "Requirement already satisfied: cymem<2.1.0,>=2.0.2 in /usr/local/lib/python3.8/dist-packages (from spacy[cuda92,transformers]) (2.0.7)\n",
            "Requirement already satisfied: typer<0.8.0,>=0.3.0 in /usr/local/lib/python3.8/dist-packages (from spacy[cuda92,transformers]) (0.7.0)\n",
            "Requirement already satisfied: pathy>=0.3.5 in /usr/local/lib/python3.8/dist-packages (from spacy[cuda92,transformers]) (0.10.1)\n",
            "Requirement already satisfied: preshed<3.1.0,>=3.0.2 in /usr/local/lib/python3.8/dist-packages (from spacy[cuda92,transformers]) (3.0.8)\n",
            "Requirement already satisfied: numpy>=1.15.0 in /usr/local/lib/python3.8/dist-packages (from spacy[cuda92,transformers]) (1.21.6)\n",
            "Requirement already satisfied: spacy-legacy<3.1.0,>=3.0.10 in /usr/local/lib/python3.8/dist-packages (from spacy[cuda92,transformers]) (3.0.10)\n",
            "Requirement already satisfied: tqdm<5.0.0,>=4.38.0 in /usr/local/lib/python3.8/dist-packages (from spacy[cuda92,transformers]) (4.64.1)\n",
            "Requirement already satisfied: pydantic!=1.8,!=1.8.1,<1.11.0,>=1.7.4 in /usr/local/lib/python3.8/dist-packages (from spacy[cuda92,transformers]) (1.10.2)\n",
            "Requirement already satisfied: srsly<3.0.0,>=2.4.3 in /usr/local/lib/python3.8/dist-packages (from spacy[cuda92,transformers]) (2.4.5)\n",
            "Requirement already satisfied: wasabi<1.1.0,>=0.9.1 in /usr/local/lib/python3.8/dist-packages (from spacy[cuda92,transformers]) (0.10.1)\n",
            "Requirement already satisfied: requests<3.0.0,>=2.13.0 in /usr/local/lib/python3.8/dist-packages (from spacy[cuda92,transformers]) (2.25.1)\n",
            "Requirement already satisfied: jinja2 in /usr/local/lib/python3.8/dist-packages (from spacy[cuda92,transformers]) (2.11.3)\n",
            "Requirement already satisfied: langcodes<4.0.0,>=3.2.0 in /usr/local/lib/python3.8/dist-packages (from spacy[cuda92,transformers]) (3.3.0)\n",
            "Requirement already satisfied: murmurhash<1.1.0,>=0.28.0 in /usr/local/lib/python3.8/dist-packages (from spacy[cuda92,transformers]) (1.0.9)\n",
            "Requirement already satisfied: setuptools in /usr/local/lib/python3.8/dist-packages (from spacy[cuda92,transformers]) (57.4.0)\n",
            "Requirement already satisfied: thinc<8.2.0,>=8.1.0 in /usr/local/lib/python3.8/dist-packages (from spacy[cuda92,transformers]) (8.1.6)\n",
            "Requirement already satisfied: spacy-loggers<2.0.0,>=1.0.0 in /usr/local/lib/python3.8/dist-packages (from spacy[cuda92,transformers]) (1.0.4)\n",
            "Requirement already satisfied: packaging>=20.0 in /usr/local/lib/python3.8/dist-packages (from spacy[cuda92,transformers]) (21.3)\n",
            "Collecting cupy-cuda92<12.0.0,>=5.0.0b4\n",
            "  Downloading cupy_cuda92-9.6.0-cp38-cp38-manylinux1_x86_64.whl (57.3 MB)\n",
            "\u001b[2K     \u001b[90m━━━━━━━━━━━━━━━━━━━━━━━━━━━━━━━━━━━━━━━━\u001b[0m \u001b[32m57.3/57.3 MB\u001b[0m \u001b[31m26.2 MB/s\u001b[0m eta \u001b[36m0:00:00\u001b[0m\n",
            "\u001b[?25hCollecting spacy-transformers<1.2.0,>=1.1.2\n",
            "  Downloading spacy_transformers-1.1.9-py2.py3-none-any.whl (53 kB)\n",
            "\u001b[2K     \u001b[90m━━━━━━━━━━━━━━━━━━━━━━━━━━━━━━━━━━━━━━━━\u001b[0m \u001b[32m53.5/53.5 KB\u001b[0m \u001b[31m6.6 MB/s\u001b[0m eta \u001b[36m0:00:00\u001b[0m\n",
            "\u001b[?25hRequirement already satisfied: fastrlock>=0.5 in /usr/local/lib/python3.8/dist-packages (from cupy-cuda92<12.0.0,>=5.0.0b4->spacy[cuda92,transformers]) (0.8.1)\n",
            "Requirement already satisfied: pyparsing!=3.0.5,>=2.0.2 in /usr/local/lib/python3.8/dist-packages (from packaging>=20.0->spacy[cuda92,transformers]) (3.0.9)\n",
            "Requirement already satisfied: typing-extensions>=4.1.0 in /usr/local/lib/python3.8/dist-packages (from pydantic!=1.8,!=1.8.1,<1.11.0,>=1.7.4->spacy[cuda92,transformers]) (4.4.0)\n",
            "Requirement already satisfied: certifi>=2017.4.17 in /usr/local/lib/python3.8/dist-packages (from requests<3.0.0,>=2.13.0->spacy[cuda92,transformers]) (2022.12.7)\n",
            "Requirement already satisfied: idna<3,>=2.5 in /usr/local/lib/python3.8/dist-packages (from requests<3.0.0,>=2.13.0->spacy[cuda92,transformers]) (2.10)\n",
            "Requirement already satisfied: chardet<5,>=3.0.2 in /usr/local/lib/python3.8/dist-packages (from requests<3.0.0,>=2.13.0->spacy[cuda92,transformers]) (4.0.0)\n",
            "Requirement already satisfied: urllib3<1.27,>=1.21.1 in /usr/local/lib/python3.8/dist-packages (from requests<3.0.0,>=2.13.0->spacy[cuda92,transformers]) (1.24.3)\n",
            "Collecting spacy-alignments<1.0.0,>=0.7.2\n",
            "  Downloading spacy_alignments-0.9.0-cp38-cp38-manylinux_2_17_x86_64.manylinux2014_x86_64.whl (1.2 MB)\n",
            "\u001b[2K     \u001b[90m━━━━━━━━━━━━━━━━━━━━━━━━━━━━━━━━━━━━━━━━\u001b[0m \u001b[32m1.2/1.2 MB\u001b[0m \u001b[31m61.4 MB/s\u001b[0m eta \u001b[36m0:00:00\u001b[0m\n",
            "\u001b[?25hCollecting transformers<4.26.0,>=3.4.0\n",
            "  Downloading transformers-4.25.1-py3-none-any.whl (5.8 MB)\n",
            "\u001b[2K     \u001b[90m━━━━━━━━━━━━━━━━━━━━━━━━━━━━━━━━━━━━━━━━\u001b[0m \u001b[32m5.8/5.8 MB\u001b[0m \u001b[31m92.4 MB/s\u001b[0m eta \u001b[36m0:00:00\u001b[0m\n",
            "\u001b[?25hRequirement already satisfied: torch>=1.6.0 in /usr/local/lib/python3.8/dist-packages (from spacy-transformers<1.2.0,>=1.1.2->spacy[cuda92,transformers]) (1.7.1+cu92)\n",
            "Requirement already satisfied: blis<0.8.0,>=0.7.8 in /usr/local/lib/python3.8/dist-packages (from thinc<8.2.0,>=8.1.0->spacy[cuda92,transformers]) (0.7.9)\n",
            "Requirement already satisfied: confection<1.0.0,>=0.0.1 in /usr/local/lib/python3.8/dist-packages (from thinc<8.2.0,>=8.1.0->spacy[cuda92,transformers]) (0.0.3)\n",
            "Requirement already satisfied: click<9.0.0,>=7.1.1 in /usr/local/lib/python3.8/dist-packages (from typer<0.8.0,>=0.3.0->spacy[cuda92,transformers]) (7.1.2)\n",
            "Requirement already satisfied: MarkupSafe>=0.23 in /usr/local/lib/python3.8/dist-packages (from jinja2->spacy[cuda92,transformers]) (2.0.1)\n",
            "Requirement already satisfied: regex!=2019.12.17 in /usr/local/lib/python3.8/dist-packages (from transformers<4.26.0,>=3.4.0->spacy-transformers<1.2.0,>=1.1.2->spacy[cuda92,transformers]) (2022.6.2)\n",
            "Collecting tokenizers!=0.11.3,<0.14,>=0.11.1\n",
            "  Downloading tokenizers-0.13.2-cp38-cp38-manylinux_2_17_x86_64.manylinux2014_x86_64.whl (7.6 MB)\n",
            "\u001b[2K     \u001b[90m━━━━━━━━━━━━━━━━━━━━━━━━━━━━━━━━━━━━━━━━\u001b[0m \u001b[32m7.6/7.6 MB\u001b[0m \u001b[31m67.9 MB/s\u001b[0m eta \u001b[36m0:00:00\u001b[0m\n",
            "\u001b[?25hCollecting huggingface-hub<1.0,>=0.10.0\n",
            "  Downloading huggingface_hub-0.11.1-py3-none-any.whl (182 kB)\n",
            "\u001b[2K     \u001b[90m━━━━━━━━━━━━━━━━━━━━━━━━━━━━━━━━━━━━━━\u001b[0m \u001b[32m182.4/182.4 KB\u001b[0m \u001b[31m24.0 MB/s\u001b[0m eta \u001b[36m0:00:00\u001b[0m\n",
            "\u001b[?25hRequirement already satisfied: pyyaml>=5.1 in /usr/local/lib/python3.8/dist-packages (from transformers<4.26.0,>=3.4.0->spacy-transformers<1.2.0,>=1.1.2->spacy[cuda92,transformers]) (6.0)\n",
            "Requirement already satisfied: filelock in /usr/local/lib/python3.8/dist-packages (from transformers<4.26.0,>=3.4.0->spacy-transformers<1.2.0,>=1.1.2->spacy[cuda92,transformers]) (3.8.2)\n",
            "Installing collected packages: tokenizers, spacy-alignments, cupy-cuda92, huggingface-hub, transformers, spacy-transformers\n",
            "Successfully installed cupy-cuda92-9.6.0 huggingface-hub-0.11.1 spacy-alignments-0.9.0 spacy-transformers-1.1.9 tokenizers-0.13.2 transformers-4.25.1\n",
            "/bin/bash: -c: line 0: unexpected EOF while looking for matching `\"'\n",
            "/bin/bash: -c: line 1: syntax error: unexpected end of file\n"
          ]
        }
      ]
    },
    {
      "cell_type": "markdown",
      "source": [
        "J'installe cupy, pour manipuler des matrices optimisées pour les GPU."
      ],
      "metadata": {
        "id": "VnrY_fj-8bi_"
      }
    },
    {
      "cell_type": "code",
      "source": [
        "!pip install cupy==9.6.0"
      ],
      "metadata": {
        "colab": {
          "base_uri": "https://localhost:8080/"
        },
        "id": "ux6mXah18h1O",
        "outputId": "b6797daf-9da0-4689-c994-dba25f7a7477"
      },
      "execution_count": 14,
      "outputs": [
        {
          "output_type": "stream",
          "name": "stdout",
          "text": [
            "Looking in indexes: https://pypi.org/simple, https://us-python.pkg.dev/colab-wheels/public/simple/\n",
            "Collecting cupy==9.6.0\n",
            "  Downloading cupy-9.6.0.tar.gz (1.6 MB)\n",
            "\u001b[2K     \u001b[90m━━━━━━━━━━━━━━━━━━━━━━━━━━━━━━━━━━━━━━━━\u001b[0m \u001b[32m1.6/1.6 MB\u001b[0m \u001b[31m22.2 MB/s\u001b[0m eta \u001b[36m0:00:00\u001b[0m\n",
            "\u001b[?25h  Preparing metadata (setup.py) ... \u001b[?25l\u001b[?25hdone\n",
            "Requirement already satisfied: numpy<1.24,>=1.17 in /usr/local/lib/python3.8/dist-packages (from cupy==9.6.0) (1.21.6)\n",
            "Requirement already satisfied: fastrlock>=0.5 in /usr/local/lib/python3.8/dist-packages (from cupy==9.6.0) (0.8.1)\n",
            "Building wheels for collected packages: cupy\n",
            "  Building wheel for cupy (setup.py) ... \u001b[?25l\u001b[?25hdone\n",
            "  Created wheel for cupy: filename=cupy-9.6.0-cp38-cp38-linux_x86_64.whl size=56866375 sha256=df56b2e4f28fbacb13463f54081243e2cc88cb89318bfbbbf9efd4089ef68e40\n",
            "  Stored in directory: /root/.cache/pip/wheels/be/bd/30/e74db2a8cdabb2b84dbb11a2be14a09c3d8f7e71dcd9484065\n",
            "Successfully built cupy\n",
            "Installing collected packages: cupy\n",
            "Successfully installed cupy-9.6.0\n"
          ]
        }
      ]
    },
    {
      "cell_type": "markdown",
      "source": [
        "Je configure mon entraînement avec un fichier .cfg qui contient tous les paramètres pour mon entraînement."
      ],
      "metadata": {
        "id": "vrQVE2u68fr3"
      }
    },
    {
      "cell_type": "code",
      "source": [
        "!wget https://raw.githubusercontent.com/MiguelBetti/Cartographie/main/SPACY/DATA/config.cfg"
      ],
      "metadata": {
        "colab": {
          "base_uri": "https://localhost:8080/"
        },
        "id": "IQzuW3xh8n7U",
        "outputId": "1463cf0a-260d-4d0e-e94a-6d651ab1aac3"
      },
      "execution_count": 15,
      "outputs": [
        {
          "output_type": "stream",
          "name": "stdout",
          "text": [
            "--2023-01-04 18:15:33--  https://raw.githubusercontent.com/MiguelBetti/Cartographie/main/SPACY/DATA/config.cfg\n",
            "Resolving raw.githubusercontent.com (raw.githubusercontent.com)... 185.199.109.133, 185.199.110.133, 185.199.108.133, ...\n",
            "Connecting to raw.githubusercontent.com (raw.githubusercontent.com)|185.199.109.133|:443... connected.\n",
            "HTTP request sent, awaiting response... 200 OK\n",
            "Length: 1783 (1.7K) [text/plain]\n",
            "Saving to: ‘config.cfg’\n",
            "\n",
            "\rconfig.cfg            0%[                    ]       0  --.-KB/s               \rconfig.cfg          100%[===================>]   1.74K  --.-KB/s    in 0s      \n",
            "\n",
            "2023-01-04 18:15:34 (32.9 MB/s) - ‘config.cfg’ saved [1783/1783]\n",
            "\n"
          ]
        }
      ]
    },
    {
      "cell_type": "markdown",
      "source": [
        "Je reconfigure l'entraînement."
      ],
      "metadata": {
        "id": "Ec0OufRA8nLv"
      }
    },
    {
      "cell_type": "code",
      "source": [
        "!python -m spacy init fill-config /content/config.cfg /content/config_spacy.cfg"
      ],
      "metadata": {
        "colab": {
          "base_uri": "https://localhost:8080/"
        },
        "id": "jBbkiprk8tVx",
        "outputId": "5db76dea-5e26-476c-fb3b-e98b5085d122"
      },
      "execution_count": 16,
      "outputs": [
        {
          "output_type": "stream",
          "name": "stdout",
          "text": [
            "2023-01-04 18:21:29.454620: I tensorflow/core/util/util.cc:169] oneDNN custom operations are on. You may see slightly different numerical results due to floating-point round-off errors from different computation orders. To turn them off, set the environment variable `TF_ENABLE_ONEDNN_OPTS=0`.\n",
            "\u001b[38;5;2m✔ Auto-filled config with all values\u001b[0m\n",
            "\u001b[38;5;2m✔ Saved config\u001b[0m\n",
            "/content/config_spacy.cfg\n",
            "You can now add your data and train your pipeline:\n",
            "python -m spacy train config_spacy.cfg --paths.train ./train.spacy --paths.dev ./dev.spacy\n"
          ]
        }
      ]
    },
    {
      "cell_type": "markdown",
      "source": [
        "Je contrôle mon fichier de configuration."
      ],
      "metadata": {
        "id": "Gaetexo18wNl"
      }
    },
    {
      "cell_type": "code",
      "source": [
        "!python -m spacy debug data /content/config_spacy.cfg"
      ],
      "metadata": {
        "colab": {
          "base_uri": "https://localhost:8080/"
        },
        "id": "O5ukc4at8yTW",
        "outputId": "2d16d3be-e69c-4793-aeb5-2eb17af6ea9d"
      },
      "execution_count": 17,
      "outputs": [
        {
          "output_type": "stream",
          "name": "stdout",
          "text": [
            "2023-01-04 18:23:05.619135: I tensorflow/core/util/util.cc:169] oneDNN custom operations are on. You may see slightly different numerical results due to floating-point round-off errors from different computation orders. To turn them off, set the environment variable `TF_ENABLE_ONEDNN_OPTS=0`.\n",
            "\u001b[1m\n",
            "============================ Data file validation ============================\u001b[0m\n",
            "Downloading: 100% 28.0/28.0 [00:00<00:00, 26.4kB/s]\n",
            "Downloading: 100% 625/625 [00:00<00:00, 563kB/s]\n",
            "Downloading: 100% 872k/872k [00:00<00:00, 5.68MB/s]\n",
            "Downloading: 100% 1.72M/1.72M [00:00<00:00, 10.1MB/s]\n",
            "Downloading: 100% 672M/672M [00:07<00:00, 88.7MB/s]\n",
            "Some weights of the model checkpoint at bert-base-multilingual-uncased were not used when initializing BertModel: ['cls.predictions.decoder.weight', 'cls.predictions.transform.dense.weight', 'cls.predictions.transform.dense.bias', 'cls.predictions.transform.LayerNorm.weight', 'cls.predictions.bias', 'cls.seq_relationship.bias', 'cls.predictions.transform.LayerNorm.bias', 'cls.seq_relationship.weight']\n",
            "- This IS expected if you are initializing BertModel from the checkpoint of a model trained on another task or with another architecture (e.g. initializing a BertForSequenceClassification model from a BertForPreTraining model).\n",
            "- This IS NOT expected if you are initializing BertModel from the checkpoint of a model that you expect to be exactly identical (initializing a BertForSequenceClassification model from a BertForSequenceClassification model).\n",
            "\u001b[38;5;2m✔ Pipeline can be initialized with data\u001b[0m\n",
            "\u001b[38;5;2m✔ Corpus is loadable\u001b[0m\n",
            "\u001b[1m\n",
            "=============================== Training stats ===============================\u001b[0m\n",
            "Language: xx\n",
            "Training pipeline: transformer, ner\n",
            "1 training docs\n",
            "1 evaluation docs\n",
            "\u001b[38;5;2m✔ No overlap between training and evaluation data\u001b[0m\n",
            "\u001b[38;5;1m✘ Low number of examples to train a new pipeline (1)\u001b[0m\n",
            "\u001b[1m\n",
            "============================== Vocab & Vectors ==============================\u001b[0m\n",
            "\u001b[38;5;4mℹ 16872 total word(s) in the data (3379 unique)\u001b[0m\n",
            "\u001b[38;5;4mℹ No word vectors present in the package\u001b[0m\n",
            "\u001b[1m\n",
            "========================== Named Entity Recognition ==========================\u001b[0m\n",
            "\u001b[38;5;4mℹ 1 label(s)\u001b[0m\n",
            "0 missing value(s) (tokens with '-' label)\n",
            "\u001b[38;5;2m✔ Good amount of examples for all labels\u001b[0m\n",
            "\u001b[38;5;2m✔ Examples without occurrences available for all labels\u001b[0m\n",
            "\u001b[38;5;2m✔ No entities consisting of or starting/ending with whitespace\u001b[0m\n",
            "\u001b[38;5;2m✔ No entities crossing sentence boundaries\u001b[0m\n",
            "\u001b[1m\n",
            "================================== Summary ==================================\u001b[0m\n",
            "\u001b[38;5;2m✔ 7 checks passed\u001b[0m\n",
            "\u001b[38;5;1m✘ 1 error\u001b[0m\n"
          ]
        }
      ]
    },
    {
      "cell_type": "markdown",
      "source": [
        "Je lance mon rentraînement."
      ],
      "metadata": {
        "id": "kwUuPHC282RB"
      }
    },
    {
      "cell_type": "code",
      "source": [
        "!python -m spacy train -g 0 /content/config_spacy.cfg --output ./"
      ],
      "metadata": {
        "colab": {
          "base_uri": "https://localhost:8080/"
        },
        "id": "1abUkZ_H86HD",
        "outputId": "86d07c16-b411-47a2-cdba-30c48b7eaa4f"
      },
      "execution_count": 26,
      "outputs": [
        {
          "output_type": "stream",
          "name": "stdout",
          "text": [
            "2023-01-04 18:40:19.117402: I tensorflow/core/util/util.cc:169] oneDNN custom operations are on. You may see slightly different numerical results due to floating-point round-off errors from different computation orders. To turn them off, set the environment variable `TF_ENABLE_ONEDNN_OPTS=0`.\n",
            "\u001b[38;5;4mℹ Saving to output directory: .\u001b[0m\n",
            "\u001b[38;5;4mℹ Using GPU: 0\u001b[0m\n",
            "/usr/local/lib/python3.8/dist-packages/torch/cuda/__init__.py:104: UserWarning: \n",
            "A100-SXM4-40GB with CUDA capability sm_80 is not compatible with the current PyTorch installation.\n",
            "The current PyTorch install supports CUDA capabilities sm_37 sm_50 sm_60 sm_70.\n",
            "If you want to use the A100-SXM4-40GB GPU with PyTorch, please check the instructions at https://pytorch.org/get-started/locally/\n",
            "\n",
            "  warnings.warn(incompatible_device_warn.format(device_name, capability, \" \".join(arch_list), device_name))\n",
            "\u001b[1m\n",
            "=========================== Initializing pipeline ===========================\u001b[0m\n",
            "[2023-01-04 18:40:23,296] [INFO] Set up nlp object from config\n",
            "INFO:spacy:Set up nlp object from config\n",
            "[2023-01-04 18:40:23,308] [INFO] Pipeline: ['transformer', 'ner']\n",
            "INFO:spacy:Pipeline: ['transformer', 'ner']\n",
            "[2023-01-04 18:40:23,312] [INFO] Created vocabulary\n",
            "INFO:spacy:Created vocabulary\n",
            "[2023-01-04 18:40:23,313] [INFO] Finished initializing nlp object\n",
            "INFO:spacy:Finished initializing nlp object\n",
            "Some weights of the model checkpoint at bert-base-multilingual-uncased were not used when initializing BertModel: ['cls.predictions.transform.LayerNorm.weight', 'cls.predictions.transform.LayerNorm.bias', 'cls.predictions.transform.dense.bias', 'cls.predictions.transform.dense.weight', 'cls.seq_relationship.bias', 'cls.seq_relationship.weight', 'cls.predictions.decoder.weight', 'cls.predictions.bias']\n",
            "- This IS expected if you are initializing BertModel from the checkpoint of a model trained on another task or with another architecture (e.g. initializing a BertForSequenceClassification model from a BertForPreTraining model).\n",
            "- This IS NOT expected if you are initializing BertModel from the checkpoint of a model that you expect to be exactly identical (initializing a BertForSequenceClassification model from a BertForSequenceClassification model).\n",
            "Traceback (most recent call last):\n",
            "  File \"/usr/lib/python3.8/runpy.py\", line 194, in _run_module_as_main\n",
            "    return _run_code(code, main_globals, None,\n",
            "  File \"/usr/lib/python3.8/runpy.py\", line 87, in _run_code\n",
            "    exec(code, run_globals)\n",
            "  File \"/usr/local/lib/python3.8/dist-packages/spacy/__main__.py\", line 4, in <module>\n",
            "    setup_cli()\n",
            "  File \"/usr/local/lib/python3.8/dist-packages/spacy/cli/_util.py\", line 71, in setup_cli\n",
            "    command(prog_name=COMMAND)\n",
            "  File \"/usr/local/lib/python3.8/dist-packages/click/core.py\", line 829, in __call__\n",
            "    return self.main(*args, **kwargs)\n",
            "  File \"/usr/local/lib/python3.8/dist-packages/typer/core.py\", line 778, in main\n",
            "    return _main(\n",
            "  File \"/usr/local/lib/python3.8/dist-packages/typer/core.py\", line 216, in _main\n",
            "    rv = self.invoke(ctx)\n",
            "  File \"/usr/local/lib/python3.8/dist-packages/click/core.py\", line 1259, in invoke\n",
            "    return _process_result(sub_ctx.command.invoke(sub_ctx))\n",
            "  File \"/usr/local/lib/python3.8/dist-packages/click/core.py\", line 1066, in invoke\n",
            "    return ctx.invoke(self.callback, **ctx.params)\n",
            "  File \"/usr/local/lib/python3.8/dist-packages/click/core.py\", line 610, in invoke\n",
            "    return callback(*args, **kwargs)\n",
            "  File \"/usr/local/lib/python3.8/dist-packages/typer/main.py\", line 683, in wrapper\n",
            "    return callback(**use_params)  # type: ignore\n",
            "  File \"/usr/local/lib/python3.8/dist-packages/spacy/cli/train.py\", line 45, in train_cli\n",
            "    train(config_path, output_path, use_gpu=use_gpu, overrides=overrides)\n",
            "  File \"/usr/local/lib/python3.8/dist-packages/spacy/cli/train.py\", line 72, in train\n",
            "    nlp = init_nlp(config, use_gpu=use_gpu)\n",
            "  File \"/usr/local/lib/python3.8/dist-packages/spacy/training/initialize.py\", line 84, in init_nlp\n",
            "    nlp.initialize(lambda: train_corpus(nlp), sgd=optimizer)\n",
            "  File \"/usr/local/lib/python3.8/dist-packages/spacy/language.py\", line 1323, in initialize\n",
            "    proc.initialize(get_examples, nlp=self, **p_settings)\n",
            "  File \"/usr/local/lib/python3.8/dist-packages/spacy_transformers/pipeline_component.py\", line 354, in initialize\n",
            "    self.model.initialize(X=docs)\n",
            "  File \"/usr/local/lib/python3.8/dist-packages/thinc/model.py\", line 299, in initialize\n",
            "    self.init(self, X=X, Y=Y)\n",
            "  File \"/usr/local/lib/python3.8/dist-packages/spacy_transformers/layers/transformer_model.py\", line 157, in init\n",
            "    model_output = model.layers[0].predict(wordpieces)\n",
            "  File \"/usr/local/lib/python3.8/dist-packages/thinc/model.py\", line 315, in predict\n",
            "    return self._func(self, X, is_train=False)[0]\n",
            "  File \"/usr/local/lib/python3.8/dist-packages/thinc/layers/pytorchwrapper.py\", line 218, in forward\n",
            "    Xtorch, get_dX = convert_inputs(model, X, is_train)\n",
            "  File \"/usr/local/lib/python3.8/dist-packages/spacy_transformers/layers/transformer_model.py\", line 214, in _convert_transformer_inputs\n",
            "    \"input_ids\": xp2torch(wps.input_ids).long().to(device=hf_device),\n",
            "RuntimeError: CUDA error: no kernel image is available for execution on the device\n"
          ]
        }
      ]
    },
    {
      "cell_type": "markdown",
      "source": [
        "Je télécharge mon meilleur modèle."
      ],
      "metadata": {
        "id": "K9ahtRFS89O9"
      }
    },
    {
      "cell_type": "code",
      "source": [
        "from google.colab import files\n",
        "!zip -r /content/model-best.zip /content/model-best\n",
        "files.download('/content/model-best.zip')"
      ],
      "metadata": {
        "colab": {
          "base_uri": "https://localhost:8080/",
          "height": 374
        },
        "id": "8LdyobdA8_xs",
        "outputId": "4b8d808d-8f5d-44a8-a569-434d60eef439"
      },
      "execution_count": 22,
      "outputs": [
        {
          "output_type": "stream",
          "name": "stdout",
          "text": [
            "\tzip warning: name not matched: /content/model-best\n",
            "\n",
            "zip error: Nothing to do! (try: zip -r /content/model-best.zip . -i /content/model-best)\n"
          ]
        },
        {
          "output_type": "error",
          "ename": "FileNotFoundError",
          "evalue": "ignored",
          "traceback": [
            "\u001b[0;31m---------------------------------------------------------------------------\u001b[0m",
            "\u001b[0;31mFileNotFoundError\u001b[0m                         Traceback (most recent call last)",
            "\u001b[0;32m<ipython-input-22-d5d8a1146e8e>\u001b[0m in \u001b[0;36m<module>\u001b[0;34m\u001b[0m\n\u001b[1;32m      1\u001b[0m \u001b[0;32mfrom\u001b[0m \u001b[0mgoogle\u001b[0m\u001b[0;34m.\u001b[0m\u001b[0mcolab\u001b[0m \u001b[0;32mimport\u001b[0m \u001b[0mfiles\u001b[0m\u001b[0;34m\u001b[0m\u001b[0;34m\u001b[0m\u001b[0m\n\u001b[1;32m      2\u001b[0m \u001b[0mget_ipython\u001b[0m\u001b[0;34m(\u001b[0m\u001b[0;34m)\u001b[0m\u001b[0;34m.\u001b[0m\u001b[0msystem\u001b[0m\u001b[0;34m(\u001b[0m\u001b[0;34m'zip -r /content/model-best.zip /content/model-best'\u001b[0m\u001b[0;34m)\u001b[0m\u001b[0;34m\u001b[0m\u001b[0;34m\u001b[0m\u001b[0m\n\u001b[0;32m----> 3\u001b[0;31m \u001b[0mfiles\u001b[0m\u001b[0;34m.\u001b[0m\u001b[0mdownload\u001b[0m\u001b[0;34m(\u001b[0m\u001b[0;34m'/content/model-best.zip'\u001b[0m\u001b[0;34m)\u001b[0m\u001b[0;34m\u001b[0m\u001b[0;34m\u001b[0m\u001b[0m\n\u001b[0m",
            "\u001b[0;32m/usr/local/lib/python3.8/dist-packages/google/colab/files.py\u001b[0m in \u001b[0;36mdownload\u001b[0;34m(filename)\u001b[0m\n\u001b[1;32m    207\u001b[0m   \u001b[0;32mif\u001b[0m \u001b[0;32mnot\u001b[0m \u001b[0m_os\u001b[0m\u001b[0;34m.\u001b[0m\u001b[0mpath\u001b[0m\u001b[0;34m.\u001b[0m\u001b[0mexists\u001b[0m\u001b[0;34m(\u001b[0m\u001b[0mfilename\u001b[0m\u001b[0;34m)\u001b[0m\u001b[0;34m:\u001b[0m\u001b[0;34m\u001b[0m\u001b[0;34m\u001b[0m\u001b[0m\n\u001b[1;32m    208\u001b[0m     \u001b[0mmsg\u001b[0m \u001b[0;34m=\u001b[0m \u001b[0;34m'Cannot find file: {}'\u001b[0m\u001b[0;34m.\u001b[0m\u001b[0mformat\u001b[0m\u001b[0;34m(\u001b[0m\u001b[0mfilename\u001b[0m\u001b[0;34m)\u001b[0m\u001b[0;34m\u001b[0m\u001b[0;34m\u001b[0m\u001b[0m\n\u001b[0;32m--> 209\u001b[0;31m     \u001b[0;32mraise\u001b[0m \u001b[0mFileNotFoundError\u001b[0m\u001b[0;34m(\u001b[0m\u001b[0mmsg\u001b[0m\u001b[0;34m)\u001b[0m  \u001b[0;31m# pylint: disable=undefined-variable\u001b[0m\u001b[0;34m\u001b[0m\u001b[0;34m\u001b[0m\u001b[0m\n\u001b[0m\u001b[1;32m    210\u001b[0m \u001b[0;34m\u001b[0m\u001b[0m\n\u001b[1;32m    211\u001b[0m   \u001b[0mcomm_manager\u001b[0m \u001b[0;34m=\u001b[0m \u001b[0m_IPython\u001b[0m\u001b[0;34m.\u001b[0m\u001b[0mget_ipython\u001b[0m\u001b[0;34m(\u001b[0m\u001b[0;34m)\u001b[0m\u001b[0;34m.\u001b[0m\u001b[0mkernel\u001b[0m\u001b[0;34m.\u001b[0m\u001b[0mcomm_manager\u001b[0m\u001b[0;34m\u001b[0m\u001b[0;34m\u001b[0m\u001b[0m\n",
            "\u001b[0;31mFileNotFoundError\u001b[0m: Cannot find file: /content/model-best.zip"
          ]
        }
      ]
    },
    {
      "cell_type": "markdown",
      "source": [
        "Je teste le modèle sur un nouveau texte. Pour cela, je télécharge et transforme le nouveau document, comme les précédents."
      ],
      "metadata": {
        "id": "iZNV5LsR9HQG"
      }
    },
    {
      "cell_type": "code",
      "source": [
        "!wget https://raw.githubusercontent.com/MiguelBetti/Cartographie/main/SPACY/DATA/eval/LOPE_MUDANZASFORTUNA.tsv\n",
        "!mv /content/LOPE_MUDANZASFORTUNA.tsv /content/training_data\n",
        "!python -m spacy convert /content/training_data/LOPE_MUDANZASFORTUNA.tsv /content/training_json -t json -n 10 -c iob\n",
        "!python -m spacy convert /content/training_json/LOPE_MUDANZASFORTUNA.json /content/training_spacy -t spacy"
      ],
      "metadata": {
        "id": "-hG2lAmQ9IvU"
      },
      "execution_count": null,
      "outputs": []
    },
    {
      "cell_type": "markdown",
      "source": [
        "Je teste le modèle avec le nouveau fichier."
      ],
      "metadata": {
        "id": "dVhcR3fe9LJ5"
      }
    },
    {
      "cell_type": "code",
      "source": [
        "!mkdir results\n",
        "!python -m spacy evaluate /content/model-best /content/training_spacy/BOYER_ARISTODEME.spacy  -dp /content/results"
      ],
      "metadata": {
        "id": "Gkh1QBNq9NlP"
      },
      "execution_count": null,
      "outputs": []
    }
  ]
}